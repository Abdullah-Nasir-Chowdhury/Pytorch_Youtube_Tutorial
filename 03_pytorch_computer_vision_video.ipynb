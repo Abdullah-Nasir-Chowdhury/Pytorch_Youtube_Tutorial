{
  "nbformat": 4,
  "nbformat_minor": 0,
  "metadata": {
    "colab": {
      "provenance": [],
      "gpuType": "T4"
    },
    "kernelspec": {
      "name": "python3",
      "display_name": "Python 3"
    },
    "language_info": {
      "name": "python"
    },
    "accelerator": "GPU",
    "widgets": {
      "application/vnd.jupyter.widget-state+json": {
        "f48f67d3b731447f958f5a78b8e5ac70": {
          "model_module": "@jupyter-widgets/controls",
          "model_name": "HBoxModel",
          "model_module_version": "1.5.0",
          "state": {
            "_dom_classes": [],
            "_model_module": "@jupyter-widgets/controls",
            "_model_module_version": "1.5.0",
            "_model_name": "HBoxModel",
            "_view_count": null,
            "_view_module": "@jupyter-widgets/controls",
            "_view_module_version": "1.5.0",
            "_view_name": "HBoxView",
            "box_style": "",
            "children": [
              "IPY_MODEL_dc01e8c51ad74089b05e6557bb16fbad",
              "IPY_MODEL_5e609fdf5f2546f1a4c061d5f62f9376",
              "IPY_MODEL_493c23f79f7d46f48df57b304577079f"
            ],
            "layout": "IPY_MODEL_28515eb9c5314e529e6e5e2571219fa0"
          }
        },
        "dc01e8c51ad74089b05e6557bb16fbad": {
          "model_module": "@jupyter-widgets/controls",
          "model_name": "HTMLModel",
          "model_module_version": "1.5.0",
          "state": {
            "_dom_classes": [],
            "_model_module": "@jupyter-widgets/controls",
            "_model_module_version": "1.5.0",
            "_model_name": "HTMLModel",
            "_view_count": null,
            "_view_module": "@jupyter-widgets/controls",
            "_view_module_version": "1.5.0",
            "_view_name": "HTMLView",
            "description": "",
            "description_tooltip": null,
            "layout": "IPY_MODEL_9d7beeb8c71b48f7940cb658940c2bf3",
            "placeholder": "​",
            "style": "IPY_MODEL_ab65719de74240dd925eb87956356405",
            "value": "100%"
          }
        },
        "5e609fdf5f2546f1a4c061d5f62f9376": {
          "model_module": "@jupyter-widgets/controls",
          "model_name": "FloatProgressModel",
          "model_module_version": "1.5.0",
          "state": {
            "_dom_classes": [],
            "_model_module": "@jupyter-widgets/controls",
            "_model_module_version": "1.5.0",
            "_model_name": "FloatProgressModel",
            "_view_count": null,
            "_view_module": "@jupyter-widgets/controls",
            "_view_module_version": "1.5.0",
            "_view_name": "ProgressView",
            "bar_style": "success",
            "description": "",
            "description_tooltip": null,
            "layout": "IPY_MODEL_60ab170a8c2741f7be991585e3dd38a1",
            "max": 3,
            "min": 0,
            "orientation": "horizontal",
            "style": "IPY_MODEL_5c0aa3fa77054d55a5e115e6bf5a1246",
            "value": 3
          }
        },
        "493c23f79f7d46f48df57b304577079f": {
          "model_module": "@jupyter-widgets/controls",
          "model_name": "HTMLModel",
          "model_module_version": "1.5.0",
          "state": {
            "_dom_classes": [],
            "_model_module": "@jupyter-widgets/controls",
            "_model_module_version": "1.5.0",
            "_model_name": "HTMLModel",
            "_view_count": null,
            "_view_module": "@jupyter-widgets/controls",
            "_view_module_version": "1.5.0",
            "_view_name": "HTMLView",
            "description": "",
            "description_tooltip": null,
            "layout": "IPY_MODEL_2080cfc8bf5c4af9965b37a66d609c53",
            "placeholder": "​",
            "style": "IPY_MODEL_a28905228c0742a783f99ba10ad20dbe",
            "value": " 3/3 [00:31&lt;00:00, 10.16s/it]"
          }
        },
        "28515eb9c5314e529e6e5e2571219fa0": {
          "model_module": "@jupyter-widgets/base",
          "model_name": "LayoutModel",
          "model_module_version": "1.2.0",
          "state": {
            "_model_module": "@jupyter-widgets/base",
            "_model_module_version": "1.2.0",
            "_model_name": "LayoutModel",
            "_view_count": null,
            "_view_module": "@jupyter-widgets/base",
            "_view_module_version": "1.2.0",
            "_view_name": "LayoutView",
            "align_content": null,
            "align_items": null,
            "align_self": null,
            "border": null,
            "bottom": null,
            "display": null,
            "flex": null,
            "flex_flow": null,
            "grid_area": null,
            "grid_auto_columns": null,
            "grid_auto_flow": null,
            "grid_auto_rows": null,
            "grid_column": null,
            "grid_gap": null,
            "grid_row": null,
            "grid_template_areas": null,
            "grid_template_columns": null,
            "grid_template_rows": null,
            "height": null,
            "justify_content": null,
            "justify_items": null,
            "left": null,
            "margin": null,
            "max_height": null,
            "max_width": null,
            "min_height": null,
            "min_width": null,
            "object_fit": null,
            "object_position": null,
            "order": null,
            "overflow": null,
            "overflow_x": null,
            "overflow_y": null,
            "padding": null,
            "right": null,
            "top": null,
            "visibility": null,
            "width": null
          }
        },
        "9d7beeb8c71b48f7940cb658940c2bf3": {
          "model_module": "@jupyter-widgets/base",
          "model_name": "LayoutModel",
          "model_module_version": "1.2.0",
          "state": {
            "_model_module": "@jupyter-widgets/base",
            "_model_module_version": "1.2.0",
            "_model_name": "LayoutModel",
            "_view_count": null,
            "_view_module": "@jupyter-widgets/base",
            "_view_module_version": "1.2.0",
            "_view_name": "LayoutView",
            "align_content": null,
            "align_items": null,
            "align_self": null,
            "border": null,
            "bottom": null,
            "display": null,
            "flex": null,
            "flex_flow": null,
            "grid_area": null,
            "grid_auto_columns": null,
            "grid_auto_flow": null,
            "grid_auto_rows": null,
            "grid_column": null,
            "grid_gap": null,
            "grid_row": null,
            "grid_template_areas": null,
            "grid_template_columns": null,
            "grid_template_rows": null,
            "height": null,
            "justify_content": null,
            "justify_items": null,
            "left": null,
            "margin": null,
            "max_height": null,
            "max_width": null,
            "min_height": null,
            "min_width": null,
            "object_fit": null,
            "object_position": null,
            "order": null,
            "overflow": null,
            "overflow_x": null,
            "overflow_y": null,
            "padding": null,
            "right": null,
            "top": null,
            "visibility": null,
            "width": null
          }
        },
        "ab65719de74240dd925eb87956356405": {
          "model_module": "@jupyter-widgets/controls",
          "model_name": "DescriptionStyleModel",
          "model_module_version": "1.5.0",
          "state": {
            "_model_module": "@jupyter-widgets/controls",
            "_model_module_version": "1.5.0",
            "_model_name": "DescriptionStyleModel",
            "_view_count": null,
            "_view_module": "@jupyter-widgets/base",
            "_view_module_version": "1.2.0",
            "_view_name": "StyleView",
            "description_width": ""
          }
        },
        "60ab170a8c2741f7be991585e3dd38a1": {
          "model_module": "@jupyter-widgets/base",
          "model_name": "LayoutModel",
          "model_module_version": "1.2.0",
          "state": {
            "_model_module": "@jupyter-widgets/base",
            "_model_module_version": "1.2.0",
            "_model_name": "LayoutModel",
            "_view_count": null,
            "_view_module": "@jupyter-widgets/base",
            "_view_module_version": "1.2.0",
            "_view_name": "LayoutView",
            "align_content": null,
            "align_items": null,
            "align_self": null,
            "border": null,
            "bottom": null,
            "display": null,
            "flex": null,
            "flex_flow": null,
            "grid_area": null,
            "grid_auto_columns": null,
            "grid_auto_flow": null,
            "grid_auto_rows": null,
            "grid_column": null,
            "grid_gap": null,
            "grid_row": null,
            "grid_template_areas": null,
            "grid_template_columns": null,
            "grid_template_rows": null,
            "height": null,
            "justify_content": null,
            "justify_items": null,
            "left": null,
            "margin": null,
            "max_height": null,
            "max_width": null,
            "min_height": null,
            "min_width": null,
            "object_fit": null,
            "object_position": null,
            "order": null,
            "overflow": null,
            "overflow_x": null,
            "overflow_y": null,
            "padding": null,
            "right": null,
            "top": null,
            "visibility": null,
            "width": null
          }
        },
        "5c0aa3fa77054d55a5e115e6bf5a1246": {
          "model_module": "@jupyter-widgets/controls",
          "model_name": "ProgressStyleModel",
          "model_module_version": "1.5.0",
          "state": {
            "_model_module": "@jupyter-widgets/controls",
            "_model_module_version": "1.5.0",
            "_model_name": "ProgressStyleModel",
            "_view_count": null,
            "_view_module": "@jupyter-widgets/base",
            "_view_module_version": "1.2.0",
            "_view_name": "StyleView",
            "bar_color": null,
            "description_width": ""
          }
        },
        "2080cfc8bf5c4af9965b37a66d609c53": {
          "model_module": "@jupyter-widgets/base",
          "model_name": "LayoutModel",
          "model_module_version": "1.2.0",
          "state": {
            "_model_module": "@jupyter-widgets/base",
            "_model_module_version": "1.2.0",
            "_model_name": "LayoutModel",
            "_view_count": null,
            "_view_module": "@jupyter-widgets/base",
            "_view_module_version": "1.2.0",
            "_view_name": "LayoutView",
            "align_content": null,
            "align_items": null,
            "align_self": null,
            "border": null,
            "bottom": null,
            "display": null,
            "flex": null,
            "flex_flow": null,
            "grid_area": null,
            "grid_auto_columns": null,
            "grid_auto_flow": null,
            "grid_auto_rows": null,
            "grid_column": null,
            "grid_gap": null,
            "grid_row": null,
            "grid_template_areas": null,
            "grid_template_columns": null,
            "grid_template_rows": null,
            "height": null,
            "justify_content": null,
            "justify_items": null,
            "left": null,
            "margin": null,
            "max_height": null,
            "max_width": null,
            "min_height": null,
            "min_width": null,
            "object_fit": null,
            "object_position": null,
            "order": null,
            "overflow": null,
            "overflow_x": null,
            "overflow_y": null,
            "padding": null,
            "right": null,
            "top": null,
            "visibility": null,
            "width": null
          }
        },
        "a28905228c0742a783f99ba10ad20dbe": {
          "model_module": "@jupyter-widgets/controls",
          "model_name": "DescriptionStyleModel",
          "model_module_version": "1.5.0",
          "state": {
            "_model_module": "@jupyter-widgets/controls",
            "_model_module_version": "1.5.0",
            "_model_name": "DescriptionStyleModel",
            "_view_count": null,
            "_view_module": "@jupyter-widgets/base",
            "_view_module_version": "1.2.0",
            "_view_name": "StyleView",
            "description_width": ""
          }
        },
        "85824994077c476c82271b9793c12327": {
          "model_module": "@jupyter-widgets/controls",
          "model_name": "HBoxModel",
          "model_module_version": "1.5.0",
          "state": {
            "_dom_classes": [],
            "_model_module": "@jupyter-widgets/controls",
            "_model_module_version": "1.5.0",
            "_model_name": "HBoxModel",
            "_view_count": null,
            "_view_module": "@jupyter-widgets/controls",
            "_view_module_version": "1.5.0",
            "_view_name": "HBoxView",
            "box_style": "",
            "children": [
              "IPY_MODEL_899c6816e51c4fd28b2ca16601c1dd31",
              "IPY_MODEL_c8d71d097f5d4387902a770995c90248",
              "IPY_MODEL_bcecefeebddc4cbab62f7824abd6709b"
            ],
            "layout": "IPY_MODEL_ef178cf107d24d4a8d49c609b3e76c3a"
          }
        },
        "899c6816e51c4fd28b2ca16601c1dd31": {
          "model_module": "@jupyter-widgets/controls",
          "model_name": "HTMLModel",
          "model_module_version": "1.5.0",
          "state": {
            "_dom_classes": [],
            "_model_module": "@jupyter-widgets/controls",
            "_model_module_version": "1.5.0",
            "_model_name": "HTMLModel",
            "_view_count": null,
            "_view_module": "@jupyter-widgets/controls",
            "_view_module_version": "1.5.0",
            "_view_name": "HTMLView",
            "description": "",
            "description_tooltip": null,
            "layout": "IPY_MODEL_ccd811ca80cc4b018800c20627c7b959",
            "placeholder": "​",
            "style": "IPY_MODEL_287cbc8d95c0479983d9c2c2f50658e0",
            "value": "100%"
          }
        },
        "c8d71d097f5d4387902a770995c90248": {
          "model_module": "@jupyter-widgets/controls",
          "model_name": "FloatProgressModel",
          "model_module_version": "1.5.0",
          "state": {
            "_dom_classes": [],
            "_model_module": "@jupyter-widgets/controls",
            "_model_module_version": "1.5.0",
            "_model_name": "FloatProgressModel",
            "_view_count": null,
            "_view_module": "@jupyter-widgets/controls",
            "_view_module_version": "1.5.0",
            "_view_name": "ProgressView",
            "bar_style": "success",
            "description": "",
            "description_tooltip": null,
            "layout": "IPY_MODEL_39f1f07409c74b1c8775edb2ae489535",
            "max": 313,
            "min": 0,
            "orientation": "horizontal",
            "style": "IPY_MODEL_43ec0817b578414da58c67c0669568ab",
            "value": 313
          }
        },
        "bcecefeebddc4cbab62f7824abd6709b": {
          "model_module": "@jupyter-widgets/controls",
          "model_name": "HTMLModel",
          "model_module_version": "1.5.0",
          "state": {
            "_dom_classes": [],
            "_model_module": "@jupyter-widgets/controls",
            "_model_module_version": "1.5.0",
            "_model_name": "HTMLModel",
            "_view_count": null,
            "_view_module": "@jupyter-widgets/controls",
            "_view_module_version": "1.5.0",
            "_view_name": "HTMLView",
            "description": "",
            "description_tooltip": null,
            "layout": "IPY_MODEL_83d3008152fa4b929c1a89131bb2fd59",
            "placeholder": "​",
            "style": "IPY_MODEL_f05b4e165a4c46839ce24b69ad8296af",
            "value": " 313/313 [00:01&lt;00:00, 248.93it/s]"
          }
        },
        "ef178cf107d24d4a8d49c609b3e76c3a": {
          "model_module": "@jupyter-widgets/base",
          "model_name": "LayoutModel",
          "model_module_version": "1.2.0",
          "state": {
            "_model_module": "@jupyter-widgets/base",
            "_model_module_version": "1.2.0",
            "_model_name": "LayoutModel",
            "_view_count": null,
            "_view_module": "@jupyter-widgets/base",
            "_view_module_version": "1.2.0",
            "_view_name": "LayoutView",
            "align_content": null,
            "align_items": null,
            "align_self": null,
            "border": null,
            "bottom": null,
            "display": null,
            "flex": null,
            "flex_flow": null,
            "grid_area": null,
            "grid_auto_columns": null,
            "grid_auto_flow": null,
            "grid_auto_rows": null,
            "grid_column": null,
            "grid_gap": null,
            "grid_row": null,
            "grid_template_areas": null,
            "grid_template_columns": null,
            "grid_template_rows": null,
            "height": null,
            "justify_content": null,
            "justify_items": null,
            "left": null,
            "margin": null,
            "max_height": null,
            "max_width": null,
            "min_height": null,
            "min_width": null,
            "object_fit": null,
            "object_position": null,
            "order": null,
            "overflow": null,
            "overflow_x": null,
            "overflow_y": null,
            "padding": null,
            "right": null,
            "top": null,
            "visibility": null,
            "width": null
          }
        },
        "ccd811ca80cc4b018800c20627c7b959": {
          "model_module": "@jupyter-widgets/base",
          "model_name": "LayoutModel",
          "model_module_version": "1.2.0",
          "state": {
            "_model_module": "@jupyter-widgets/base",
            "_model_module_version": "1.2.0",
            "_model_name": "LayoutModel",
            "_view_count": null,
            "_view_module": "@jupyter-widgets/base",
            "_view_module_version": "1.2.0",
            "_view_name": "LayoutView",
            "align_content": null,
            "align_items": null,
            "align_self": null,
            "border": null,
            "bottom": null,
            "display": null,
            "flex": null,
            "flex_flow": null,
            "grid_area": null,
            "grid_auto_columns": null,
            "grid_auto_flow": null,
            "grid_auto_rows": null,
            "grid_column": null,
            "grid_gap": null,
            "grid_row": null,
            "grid_template_areas": null,
            "grid_template_columns": null,
            "grid_template_rows": null,
            "height": null,
            "justify_content": null,
            "justify_items": null,
            "left": null,
            "margin": null,
            "max_height": null,
            "max_width": null,
            "min_height": null,
            "min_width": null,
            "object_fit": null,
            "object_position": null,
            "order": null,
            "overflow": null,
            "overflow_x": null,
            "overflow_y": null,
            "padding": null,
            "right": null,
            "top": null,
            "visibility": null,
            "width": null
          }
        },
        "287cbc8d95c0479983d9c2c2f50658e0": {
          "model_module": "@jupyter-widgets/controls",
          "model_name": "DescriptionStyleModel",
          "model_module_version": "1.5.0",
          "state": {
            "_model_module": "@jupyter-widgets/controls",
            "_model_module_version": "1.5.0",
            "_model_name": "DescriptionStyleModel",
            "_view_count": null,
            "_view_module": "@jupyter-widgets/base",
            "_view_module_version": "1.2.0",
            "_view_name": "StyleView",
            "description_width": ""
          }
        },
        "39f1f07409c74b1c8775edb2ae489535": {
          "model_module": "@jupyter-widgets/base",
          "model_name": "LayoutModel",
          "model_module_version": "1.2.0",
          "state": {
            "_model_module": "@jupyter-widgets/base",
            "_model_module_version": "1.2.0",
            "_model_name": "LayoutModel",
            "_view_count": null,
            "_view_module": "@jupyter-widgets/base",
            "_view_module_version": "1.2.0",
            "_view_name": "LayoutView",
            "align_content": null,
            "align_items": null,
            "align_self": null,
            "border": null,
            "bottom": null,
            "display": null,
            "flex": null,
            "flex_flow": null,
            "grid_area": null,
            "grid_auto_columns": null,
            "grid_auto_flow": null,
            "grid_auto_rows": null,
            "grid_column": null,
            "grid_gap": null,
            "grid_row": null,
            "grid_template_areas": null,
            "grid_template_columns": null,
            "grid_template_rows": null,
            "height": null,
            "justify_content": null,
            "justify_items": null,
            "left": null,
            "margin": null,
            "max_height": null,
            "max_width": null,
            "min_height": null,
            "min_width": null,
            "object_fit": null,
            "object_position": null,
            "order": null,
            "overflow": null,
            "overflow_x": null,
            "overflow_y": null,
            "padding": null,
            "right": null,
            "top": null,
            "visibility": null,
            "width": null
          }
        },
        "43ec0817b578414da58c67c0669568ab": {
          "model_module": "@jupyter-widgets/controls",
          "model_name": "ProgressStyleModel",
          "model_module_version": "1.5.0",
          "state": {
            "_model_module": "@jupyter-widgets/controls",
            "_model_module_version": "1.5.0",
            "_model_name": "ProgressStyleModel",
            "_view_count": null,
            "_view_module": "@jupyter-widgets/base",
            "_view_module_version": "1.2.0",
            "_view_name": "StyleView",
            "bar_color": null,
            "description_width": ""
          }
        },
        "83d3008152fa4b929c1a89131bb2fd59": {
          "model_module": "@jupyter-widgets/base",
          "model_name": "LayoutModel",
          "model_module_version": "1.2.0",
          "state": {
            "_model_module": "@jupyter-widgets/base",
            "_model_module_version": "1.2.0",
            "_model_name": "LayoutModel",
            "_view_count": null,
            "_view_module": "@jupyter-widgets/base",
            "_view_module_version": "1.2.0",
            "_view_name": "LayoutView",
            "align_content": null,
            "align_items": null,
            "align_self": null,
            "border": null,
            "bottom": null,
            "display": null,
            "flex": null,
            "flex_flow": null,
            "grid_area": null,
            "grid_auto_columns": null,
            "grid_auto_flow": null,
            "grid_auto_rows": null,
            "grid_column": null,
            "grid_gap": null,
            "grid_row": null,
            "grid_template_areas": null,
            "grid_template_columns": null,
            "grid_template_rows": null,
            "height": null,
            "justify_content": null,
            "justify_items": null,
            "left": null,
            "margin": null,
            "max_height": null,
            "max_width": null,
            "min_height": null,
            "min_width": null,
            "object_fit": null,
            "object_position": null,
            "order": null,
            "overflow": null,
            "overflow_x": null,
            "overflow_y": null,
            "padding": null,
            "right": null,
            "top": null,
            "visibility": null,
            "width": null
          }
        },
        "f05b4e165a4c46839ce24b69ad8296af": {
          "model_module": "@jupyter-widgets/controls",
          "model_name": "DescriptionStyleModel",
          "model_module_version": "1.5.0",
          "state": {
            "_model_module": "@jupyter-widgets/controls",
            "_model_module_version": "1.5.0",
            "_model_name": "DescriptionStyleModel",
            "_view_count": null,
            "_view_module": "@jupyter-widgets/base",
            "_view_module_version": "1.2.0",
            "_view_name": "StyleView",
            "description_width": ""
          }
        },
        "41c1d0561fd34b1daf9a56da840fc410": {
          "model_module": "@jupyter-widgets/controls",
          "model_name": "HBoxModel",
          "model_module_version": "1.5.0",
          "state": {
            "_dom_classes": [],
            "_model_module": "@jupyter-widgets/controls",
            "_model_module_version": "1.5.0",
            "_model_name": "HBoxModel",
            "_view_count": null,
            "_view_module": "@jupyter-widgets/controls",
            "_view_module_version": "1.5.0",
            "_view_name": "HBoxView",
            "box_style": "",
            "children": [
              "IPY_MODEL_c0416658c28f41648bbb434816a9ba4f",
              "IPY_MODEL_156cc80cfe1946d38a72b4c9b7183131",
              "IPY_MODEL_7e70c636e569499db47f8e9edd2dca9e"
            ],
            "layout": "IPY_MODEL_12fadfe377d946728c5cb527f64ee1a3"
          }
        },
        "c0416658c28f41648bbb434816a9ba4f": {
          "model_module": "@jupyter-widgets/controls",
          "model_name": "HTMLModel",
          "model_module_version": "1.5.0",
          "state": {
            "_dom_classes": [],
            "_model_module": "@jupyter-widgets/controls",
            "_model_module_version": "1.5.0",
            "_model_name": "HTMLModel",
            "_view_count": null,
            "_view_module": "@jupyter-widgets/controls",
            "_view_module_version": "1.5.0",
            "_view_name": "HTMLView",
            "description": "",
            "description_tooltip": null,
            "layout": "IPY_MODEL_46b5a4be3f3d45f79a1ac05538a2f6cf",
            "placeholder": "​",
            "style": "IPY_MODEL_6ee0920a9e1b4d459d9e44decef34324",
            "value": "100%"
          }
        },
        "156cc80cfe1946d38a72b4c9b7183131": {
          "model_module": "@jupyter-widgets/controls",
          "model_name": "FloatProgressModel",
          "model_module_version": "1.5.0",
          "state": {
            "_dom_classes": [],
            "_model_module": "@jupyter-widgets/controls",
            "_model_module_version": "1.5.0",
            "_model_name": "FloatProgressModel",
            "_view_count": null,
            "_view_module": "@jupyter-widgets/controls",
            "_view_module_version": "1.5.0",
            "_view_name": "ProgressView",
            "bar_style": "success",
            "description": "",
            "description_tooltip": null,
            "layout": "IPY_MODEL_455cde330f5c4894af497da17d2d9309",
            "max": 3,
            "min": 0,
            "orientation": "horizontal",
            "style": "IPY_MODEL_f046319b9c6c4e61bb2e0a6795f637cd",
            "value": 3
          }
        },
        "7e70c636e569499db47f8e9edd2dca9e": {
          "model_module": "@jupyter-widgets/controls",
          "model_name": "HTMLModel",
          "model_module_version": "1.5.0",
          "state": {
            "_dom_classes": [],
            "_model_module": "@jupyter-widgets/controls",
            "_model_module_version": "1.5.0",
            "_model_name": "HTMLModel",
            "_view_count": null,
            "_view_module": "@jupyter-widgets/controls",
            "_view_module_version": "1.5.0",
            "_view_name": "HTMLView",
            "description": "",
            "description_tooltip": null,
            "layout": "IPY_MODEL_7a57ce54e51c41cfadeda41fae9ac801",
            "placeholder": "​",
            "style": "IPY_MODEL_63c0477efc9145e496eba70a1449ec3d",
            "value": " 3/3 [00:30&lt;00:00, 10.18s/it]"
          }
        },
        "12fadfe377d946728c5cb527f64ee1a3": {
          "model_module": "@jupyter-widgets/base",
          "model_name": "LayoutModel",
          "model_module_version": "1.2.0",
          "state": {
            "_model_module": "@jupyter-widgets/base",
            "_model_module_version": "1.2.0",
            "_model_name": "LayoutModel",
            "_view_count": null,
            "_view_module": "@jupyter-widgets/base",
            "_view_module_version": "1.2.0",
            "_view_name": "LayoutView",
            "align_content": null,
            "align_items": null,
            "align_self": null,
            "border": null,
            "bottom": null,
            "display": null,
            "flex": null,
            "flex_flow": null,
            "grid_area": null,
            "grid_auto_columns": null,
            "grid_auto_flow": null,
            "grid_auto_rows": null,
            "grid_column": null,
            "grid_gap": null,
            "grid_row": null,
            "grid_template_areas": null,
            "grid_template_columns": null,
            "grid_template_rows": null,
            "height": null,
            "justify_content": null,
            "justify_items": null,
            "left": null,
            "margin": null,
            "max_height": null,
            "max_width": null,
            "min_height": null,
            "min_width": null,
            "object_fit": null,
            "object_position": null,
            "order": null,
            "overflow": null,
            "overflow_x": null,
            "overflow_y": null,
            "padding": null,
            "right": null,
            "top": null,
            "visibility": null,
            "width": null
          }
        },
        "46b5a4be3f3d45f79a1ac05538a2f6cf": {
          "model_module": "@jupyter-widgets/base",
          "model_name": "LayoutModel",
          "model_module_version": "1.2.0",
          "state": {
            "_model_module": "@jupyter-widgets/base",
            "_model_module_version": "1.2.0",
            "_model_name": "LayoutModel",
            "_view_count": null,
            "_view_module": "@jupyter-widgets/base",
            "_view_module_version": "1.2.0",
            "_view_name": "LayoutView",
            "align_content": null,
            "align_items": null,
            "align_self": null,
            "border": null,
            "bottom": null,
            "display": null,
            "flex": null,
            "flex_flow": null,
            "grid_area": null,
            "grid_auto_columns": null,
            "grid_auto_flow": null,
            "grid_auto_rows": null,
            "grid_column": null,
            "grid_gap": null,
            "grid_row": null,
            "grid_template_areas": null,
            "grid_template_columns": null,
            "grid_template_rows": null,
            "height": null,
            "justify_content": null,
            "justify_items": null,
            "left": null,
            "margin": null,
            "max_height": null,
            "max_width": null,
            "min_height": null,
            "min_width": null,
            "object_fit": null,
            "object_position": null,
            "order": null,
            "overflow": null,
            "overflow_x": null,
            "overflow_y": null,
            "padding": null,
            "right": null,
            "top": null,
            "visibility": null,
            "width": null
          }
        },
        "6ee0920a9e1b4d459d9e44decef34324": {
          "model_module": "@jupyter-widgets/controls",
          "model_name": "DescriptionStyleModel",
          "model_module_version": "1.5.0",
          "state": {
            "_model_module": "@jupyter-widgets/controls",
            "_model_module_version": "1.5.0",
            "_model_name": "DescriptionStyleModel",
            "_view_count": null,
            "_view_module": "@jupyter-widgets/base",
            "_view_module_version": "1.2.0",
            "_view_name": "StyleView",
            "description_width": ""
          }
        },
        "455cde330f5c4894af497da17d2d9309": {
          "model_module": "@jupyter-widgets/base",
          "model_name": "LayoutModel",
          "model_module_version": "1.2.0",
          "state": {
            "_model_module": "@jupyter-widgets/base",
            "_model_module_version": "1.2.0",
            "_model_name": "LayoutModel",
            "_view_count": null,
            "_view_module": "@jupyter-widgets/base",
            "_view_module_version": "1.2.0",
            "_view_name": "LayoutView",
            "align_content": null,
            "align_items": null,
            "align_self": null,
            "border": null,
            "bottom": null,
            "display": null,
            "flex": null,
            "flex_flow": null,
            "grid_area": null,
            "grid_auto_columns": null,
            "grid_auto_flow": null,
            "grid_auto_rows": null,
            "grid_column": null,
            "grid_gap": null,
            "grid_row": null,
            "grid_template_areas": null,
            "grid_template_columns": null,
            "grid_template_rows": null,
            "height": null,
            "justify_content": null,
            "justify_items": null,
            "left": null,
            "margin": null,
            "max_height": null,
            "max_width": null,
            "min_height": null,
            "min_width": null,
            "object_fit": null,
            "object_position": null,
            "order": null,
            "overflow": null,
            "overflow_x": null,
            "overflow_y": null,
            "padding": null,
            "right": null,
            "top": null,
            "visibility": null,
            "width": null
          }
        },
        "f046319b9c6c4e61bb2e0a6795f637cd": {
          "model_module": "@jupyter-widgets/controls",
          "model_name": "ProgressStyleModel",
          "model_module_version": "1.5.0",
          "state": {
            "_model_module": "@jupyter-widgets/controls",
            "_model_module_version": "1.5.0",
            "_model_name": "ProgressStyleModel",
            "_view_count": null,
            "_view_module": "@jupyter-widgets/base",
            "_view_module_version": "1.2.0",
            "_view_name": "StyleView",
            "bar_color": null,
            "description_width": ""
          }
        },
        "7a57ce54e51c41cfadeda41fae9ac801": {
          "model_module": "@jupyter-widgets/base",
          "model_name": "LayoutModel",
          "model_module_version": "1.2.0",
          "state": {
            "_model_module": "@jupyter-widgets/base",
            "_model_module_version": "1.2.0",
            "_model_name": "LayoutModel",
            "_view_count": null,
            "_view_module": "@jupyter-widgets/base",
            "_view_module_version": "1.2.0",
            "_view_name": "LayoutView",
            "align_content": null,
            "align_items": null,
            "align_self": null,
            "border": null,
            "bottom": null,
            "display": null,
            "flex": null,
            "flex_flow": null,
            "grid_area": null,
            "grid_auto_columns": null,
            "grid_auto_flow": null,
            "grid_auto_rows": null,
            "grid_column": null,
            "grid_gap": null,
            "grid_row": null,
            "grid_template_areas": null,
            "grid_template_columns": null,
            "grid_template_rows": null,
            "height": null,
            "justify_content": null,
            "justify_items": null,
            "left": null,
            "margin": null,
            "max_height": null,
            "max_width": null,
            "min_height": null,
            "min_width": null,
            "object_fit": null,
            "object_position": null,
            "order": null,
            "overflow": null,
            "overflow_x": null,
            "overflow_y": null,
            "padding": null,
            "right": null,
            "top": null,
            "visibility": null,
            "width": null
          }
        },
        "63c0477efc9145e496eba70a1449ec3d": {
          "model_module": "@jupyter-widgets/controls",
          "model_name": "DescriptionStyleModel",
          "model_module_version": "1.5.0",
          "state": {
            "_model_module": "@jupyter-widgets/controls",
            "_model_module_version": "1.5.0",
            "_model_name": "DescriptionStyleModel",
            "_view_count": null,
            "_view_module": "@jupyter-widgets/base",
            "_view_module_version": "1.2.0",
            "_view_name": "StyleView",
            "description_width": ""
          }
        },
        "f5c60cb2f11645968edf6557b1f5d690": {
          "model_module": "@jupyter-widgets/controls",
          "model_name": "HBoxModel",
          "model_module_version": "1.5.0",
          "state": {
            "_dom_classes": [],
            "_model_module": "@jupyter-widgets/controls",
            "_model_module_version": "1.5.0",
            "_model_name": "HBoxModel",
            "_view_count": null,
            "_view_module": "@jupyter-widgets/controls",
            "_view_module_version": "1.5.0",
            "_view_name": "HBoxView",
            "box_style": "",
            "children": [
              "IPY_MODEL_56e4e433ec3b413b9402881272ba0bb9",
              "IPY_MODEL_4052efabe9274deaa318acea4142a601",
              "IPY_MODEL_6a6544093bec4e50ac8fc4cac183c0f9"
            ],
            "layout": "IPY_MODEL_4d0bb3df84154561b6f630c12b972820"
          }
        },
        "56e4e433ec3b413b9402881272ba0bb9": {
          "model_module": "@jupyter-widgets/controls",
          "model_name": "HTMLModel",
          "model_module_version": "1.5.0",
          "state": {
            "_dom_classes": [],
            "_model_module": "@jupyter-widgets/controls",
            "_model_module_version": "1.5.0",
            "_model_name": "HTMLModel",
            "_view_count": null,
            "_view_module": "@jupyter-widgets/controls",
            "_view_module_version": "1.5.0",
            "_view_name": "HTMLView",
            "description": "",
            "description_tooltip": null,
            "layout": "IPY_MODEL_334cb0ace7ee4fc29ba4721f14d7cb86",
            "placeholder": "​",
            "style": "IPY_MODEL_4a6f9efe3803488aa1da7a28a21bb997",
            "value": "100%"
          }
        },
        "4052efabe9274deaa318acea4142a601": {
          "model_module": "@jupyter-widgets/controls",
          "model_name": "FloatProgressModel",
          "model_module_version": "1.5.0",
          "state": {
            "_dom_classes": [],
            "_model_module": "@jupyter-widgets/controls",
            "_model_module_version": "1.5.0",
            "_model_name": "FloatProgressModel",
            "_view_count": null,
            "_view_module": "@jupyter-widgets/controls",
            "_view_module_version": "1.5.0",
            "_view_name": "ProgressView",
            "bar_style": "success",
            "description": "",
            "description_tooltip": null,
            "layout": "IPY_MODEL_1880f237b0d54310aa602cbdd9318fe5",
            "max": 313,
            "min": 0,
            "orientation": "horizontal",
            "style": "IPY_MODEL_1ba5c5bec6514969ac14cf5b0cc06426",
            "value": 313
          }
        },
        "6a6544093bec4e50ac8fc4cac183c0f9": {
          "model_module": "@jupyter-widgets/controls",
          "model_name": "HTMLModel",
          "model_module_version": "1.5.0",
          "state": {
            "_dom_classes": [],
            "_model_module": "@jupyter-widgets/controls",
            "_model_module_version": "1.5.0",
            "_model_name": "HTMLModel",
            "_view_count": null,
            "_view_module": "@jupyter-widgets/controls",
            "_view_module_version": "1.5.0",
            "_view_name": "HTMLView",
            "description": "",
            "description_tooltip": null,
            "layout": "IPY_MODEL_2ca6aead6cde437aac7b74cbea78ca03",
            "placeholder": "​",
            "style": "IPY_MODEL_346e49f8bd69459a9d52b83a945408d9",
            "value": " 313/313 [00:01&lt;00:00, 227.37it/s]"
          }
        },
        "4d0bb3df84154561b6f630c12b972820": {
          "model_module": "@jupyter-widgets/base",
          "model_name": "LayoutModel",
          "model_module_version": "1.2.0",
          "state": {
            "_model_module": "@jupyter-widgets/base",
            "_model_module_version": "1.2.0",
            "_model_name": "LayoutModel",
            "_view_count": null,
            "_view_module": "@jupyter-widgets/base",
            "_view_module_version": "1.2.0",
            "_view_name": "LayoutView",
            "align_content": null,
            "align_items": null,
            "align_self": null,
            "border": null,
            "bottom": null,
            "display": null,
            "flex": null,
            "flex_flow": null,
            "grid_area": null,
            "grid_auto_columns": null,
            "grid_auto_flow": null,
            "grid_auto_rows": null,
            "grid_column": null,
            "grid_gap": null,
            "grid_row": null,
            "grid_template_areas": null,
            "grid_template_columns": null,
            "grid_template_rows": null,
            "height": null,
            "justify_content": null,
            "justify_items": null,
            "left": null,
            "margin": null,
            "max_height": null,
            "max_width": null,
            "min_height": null,
            "min_width": null,
            "object_fit": null,
            "object_position": null,
            "order": null,
            "overflow": null,
            "overflow_x": null,
            "overflow_y": null,
            "padding": null,
            "right": null,
            "top": null,
            "visibility": null,
            "width": null
          }
        },
        "334cb0ace7ee4fc29ba4721f14d7cb86": {
          "model_module": "@jupyter-widgets/base",
          "model_name": "LayoutModel",
          "model_module_version": "1.2.0",
          "state": {
            "_model_module": "@jupyter-widgets/base",
            "_model_module_version": "1.2.0",
            "_model_name": "LayoutModel",
            "_view_count": null,
            "_view_module": "@jupyter-widgets/base",
            "_view_module_version": "1.2.0",
            "_view_name": "LayoutView",
            "align_content": null,
            "align_items": null,
            "align_self": null,
            "border": null,
            "bottom": null,
            "display": null,
            "flex": null,
            "flex_flow": null,
            "grid_area": null,
            "grid_auto_columns": null,
            "grid_auto_flow": null,
            "grid_auto_rows": null,
            "grid_column": null,
            "grid_gap": null,
            "grid_row": null,
            "grid_template_areas": null,
            "grid_template_columns": null,
            "grid_template_rows": null,
            "height": null,
            "justify_content": null,
            "justify_items": null,
            "left": null,
            "margin": null,
            "max_height": null,
            "max_width": null,
            "min_height": null,
            "min_width": null,
            "object_fit": null,
            "object_position": null,
            "order": null,
            "overflow": null,
            "overflow_x": null,
            "overflow_y": null,
            "padding": null,
            "right": null,
            "top": null,
            "visibility": null,
            "width": null
          }
        },
        "4a6f9efe3803488aa1da7a28a21bb997": {
          "model_module": "@jupyter-widgets/controls",
          "model_name": "DescriptionStyleModel",
          "model_module_version": "1.5.0",
          "state": {
            "_model_module": "@jupyter-widgets/controls",
            "_model_module_version": "1.5.0",
            "_model_name": "DescriptionStyleModel",
            "_view_count": null,
            "_view_module": "@jupyter-widgets/base",
            "_view_module_version": "1.2.0",
            "_view_name": "StyleView",
            "description_width": ""
          }
        },
        "1880f237b0d54310aa602cbdd9318fe5": {
          "model_module": "@jupyter-widgets/base",
          "model_name": "LayoutModel",
          "model_module_version": "1.2.0",
          "state": {
            "_model_module": "@jupyter-widgets/base",
            "_model_module_version": "1.2.0",
            "_model_name": "LayoutModel",
            "_view_count": null,
            "_view_module": "@jupyter-widgets/base",
            "_view_module_version": "1.2.0",
            "_view_name": "LayoutView",
            "align_content": null,
            "align_items": null,
            "align_self": null,
            "border": null,
            "bottom": null,
            "display": null,
            "flex": null,
            "flex_flow": null,
            "grid_area": null,
            "grid_auto_columns": null,
            "grid_auto_flow": null,
            "grid_auto_rows": null,
            "grid_column": null,
            "grid_gap": null,
            "grid_row": null,
            "grid_template_areas": null,
            "grid_template_columns": null,
            "grid_template_rows": null,
            "height": null,
            "justify_content": null,
            "justify_items": null,
            "left": null,
            "margin": null,
            "max_height": null,
            "max_width": null,
            "min_height": null,
            "min_width": null,
            "object_fit": null,
            "object_position": null,
            "order": null,
            "overflow": null,
            "overflow_x": null,
            "overflow_y": null,
            "padding": null,
            "right": null,
            "top": null,
            "visibility": null,
            "width": null
          }
        },
        "1ba5c5bec6514969ac14cf5b0cc06426": {
          "model_module": "@jupyter-widgets/controls",
          "model_name": "ProgressStyleModel",
          "model_module_version": "1.5.0",
          "state": {
            "_model_module": "@jupyter-widgets/controls",
            "_model_module_version": "1.5.0",
            "_model_name": "ProgressStyleModel",
            "_view_count": null,
            "_view_module": "@jupyter-widgets/base",
            "_view_module_version": "1.2.0",
            "_view_name": "StyleView",
            "bar_color": null,
            "description_width": ""
          }
        },
        "2ca6aead6cde437aac7b74cbea78ca03": {
          "model_module": "@jupyter-widgets/base",
          "model_name": "LayoutModel",
          "model_module_version": "1.2.0",
          "state": {
            "_model_module": "@jupyter-widgets/base",
            "_model_module_version": "1.2.0",
            "_model_name": "LayoutModel",
            "_view_count": null,
            "_view_module": "@jupyter-widgets/base",
            "_view_module_version": "1.2.0",
            "_view_name": "LayoutView",
            "align_content": null,
            "align_items": null,
            "align_self": null,
            "border": null,
            "bottom": null,
            "display": null,
            "flex": null,
            "flex_flow": null,
            "grid_area": null,
            "grid_auto_columns": null,
            "grid_auto_flow": null,
            "grid_auto_rows": null,
            "grid_column": null,
            "grid_gap": null,
            "grid_row": null,
            "grid_template_areas": null,
            "grid_template_columns": null,
            "grid_template_rows": null,
            "height": null,
            "justify_content": null,
            "justify_items": null,
            "left": null,
            "margin": null,
            "max_height": null,
            "max_width": null,
            "min_height": null,
            "min_width": null,
            "object_fit": null,
            "object_position": null,
            "order": null,
            "overflow": null,
            "overflow_x": null,
            "overflow_y": null,
            "padding": null,
            "right": null,
            "top": null,
            "visibility": null,
            "width": null
          }
        },
        "346e49f8bd69459a9d52b83a945408d9": {
          "model_module": "@jupyter-widgets/controls",
          "model_name": "DescriptionStyleModel",
          "model_module_version": "1.5.0",
          "state": {
            "_model_module": "@jupyter-widgets/controls",
            "_model_module_version": "1.5.0",
            "_model_name": "DescriptionStyleModel",
            "_view_count": null,
            "_view_module": "@jupyter-widgets/base",
            "_view_module_version": "1.2.0",
            "_view_name": "StyleView",
            "description_width": ""
          }
        }
      }
    }
  },
  "cells": [
    {
      "cell_type": "markdown",
      "source": [
        "# Architecture of CNN\n",
        "\n",
        "![image.png](data:image/png;base64,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)\n"
      ],
      "metadata": {
        "id": "mdbMpWVCUAWG"
      }
    },
    {
      "cell_type": "markdown",
      "source": [
        "# PyTorch Computer Vision\n",
        "\n",
        "## 0. Computer vision libraries in PyTorch\n",
        "\n",
        "* `torchvision` - base domain library for PyTorch computer vision\n",
        "* `torchvision.datasets` - get datasets and data loading functions for computer vision\n",
        "* `torchvision.models` - get pretrained computer vision models that you can leverage for your own problems.\n",
        "* `torchvision.transforms` - functions for manipulating you vision data (images) to be suitable for use with an ML model\n",
        "* `torch.utils.data.Dataset` - Base dataset class for PyTorch.\n",
        "* `torch.utils.data.DataLoader` - Creates a Python iterable over a dataset"
      ],
      "metadata": {
        "id": "nLAAi5riKlCX"
      }
    },
    {
      "cell_type": "code",
      "source": [
        "# Import PyTorch\n",
        "import torch\n",
        "from torch import nn\n",
        "\n",
        "# import torchvision\n",
        "import torchvision\n",
        "from torchvision import datasets\n",
        "from torchvision import transforms\n",
        "from torchvision.transforms import ToTensor\n",
        "\n",
        "# import matplotlib for visualization\n",
        "import matplotlib.pyplot as plt\n",
        "\n",
        "# check versions:\n",
        "print(f'torch ver:{torch.__version__},\\ntorchvision ver:{torchvision.__version__}')"
      ],
      "metadata": {
        "colab": {
          "base_uri": "https://localhost:8080/"
        },
        "id": "hb0HY4K-MY_X",
        "outputId": "3c658caf-0d48-4ea1-9147-68e41c1814fb"
      },
      "execution_count": null,
      "outputs": [
        {
          "output_type": "stream",
          "name": "stdout",
          "text": [
            "torch ver:2.1.0+cu118,\n",
            "torchvision ver:0.16.0+cu118\n"
          ]
        }
      ]
    },
    {
      "cell_type": "markdown",
      "source": [
        "## 1. Getting a dataset\n",
        "\n",
        "The dataset we'll use is: FashionMNIST\n",
        "https://pytorch.org/vision/stable/generated/torchvision.datasets.FashionMNIST.html#torchvision.datasets.FashionMNIST"
      ],
      "metadata": {
        "id": "H9gO4ehYNBQo"
      }
    },
    {
      "cell_type": "code",
      "source": [
        "# Setup training data\n",
        "from torchvision import datasets\n",
        "train_data = datasets.FashionMNIST(\n",
        "    root='data', # where to download data to\n",
        "    train=True,\n",
        "    download=True,\n",
        "    transform=torchvision.transforms.ToTensor(),\n",
        "    target_transform=None\n",
        ")\n",
        "\n",
        "test_data = datasets.FashionMNIST(\n",
        "    root='data',\n",
        "    train=False,\n",
        "    download=True,\n",
        "    transform=ToTensor(),\n",
        "    target_transform=None\n",
        ")"
      ],
      "metadata": {
        "id": "5vn8RmKkPBlR"
      },
      "execution_count": null,
      "outputs": []
    },
    {
      "cell_type": "code",
      "source": [
        "len(train_data), len(test_data)"
      ],
      "metadata": {
        "colab": {
          "base_uri": "https://localhost:8080/"
        },
        "id": "cMKXjP3IPutT",
        "outputId": "9bba6353-1db9-4371-c18b-4fb58ba34833"
      },
      "execution_count": null,
      "outputs": [
        {
          "output_type": "execute_result",
          "data": {
            "text/plain": [
              "(60000, 10000)"
            ]
          },
          "metadata": {},
          "execution_count": 48
        }
      ]
    },
    {
      "cell_type": "code",
      "source": [
        "# See the first training example\n",
        "image, label = train_data[0]\n",
        "image, label"
      ],
      "metadata": {
        "colab": {
          "base_uri": "https://localhost:8080/"
        },
        "id": "XBCL3MMDQCZL",
        "outputId": "6afe9c0b-178f-4f1e-e87b-70ec55a18bfd"
      },
      "execution_count": null,
      "outputs": [
        {
          "output_type": "execute_result",
          "data": {
            "text/plain": [
              "(tensor([[[0.0000, 0.0000, 0.0000, 0.0000, 0.0000, 0.0000, 0.0000, 0.0000,\n",
              "           0.0000, 0.0000, 0.0000, 0.0000, 0.0000, 0.0000, 0.0000, 0.0000,\n",
              "           0.0000, 0.0000, 0.0000, 0.0000, 0.0000, 0.0000, 0.0000, 0.0000,\n",
              "           0.0000, 0.0000, 0.0000, 0.0000],\n",
              "          [0.0000, 0.0000, 0.0000, 0.0000, 0.0000, 0.0000, 0.0000, 0.0000,\n",
              "           0.0000, 0.0000, 0.0000, 0.0000, 0.0000, 0.0000, 0.0000, 0.0000,\n",
              "           0.0000, 0.0000, 0.0000, 0.0000, 0.0000, 0.0000, 0.0000, 0.0000,\n",
              "           0.0000, 0.0000, 0.0000, 0.0000],\n",
              "          [0.0000, 0.0000, 0.0000, 0.0000, 0.0000, 0.0000, 0.0000, 0.0000,\n",
              "           0.0000, 0.0000, 0.0000, 0.0000, 0.0000, 0.0000, 0.0000, 0.0000,\n",
              "           0.0000, 0.0000, 0.0000, 0.0000, 0.0000, 0.0000, 0.0000, 0.0000,\n",
              "           0.0000, 0.0000, 0.0000, 0.0000],\n",
              "          [0.0000, 0.0000, 0.0000, 0.0000, 0.0000, 0.0000, 0.0000, 0.0000,\n",
              "           0.0000, 0.0000, 0.0000, 0.0000, 0.0039, 0.0000, 0.0000, 0.0510,\n",
              "           0.2863, 0.0000, 0.0000, 0.0039, 0.0157, 0.0000, 0.0000, 0.0000,\n",
              "           0.0000, 0.0039, 0.0039, 0.0000],\n",
              "          [0.0000, 0.0000, 0.0000, 0.0000, 0.0000, 0.0000, 0.0000, 0.0000,\n",
              "           0.0000, 0.0000, 0.0000, 0.0000, 0.0118, 0.0000, 0.1412, 0.5333,\n",
              "           0.4980, 0.2431, 0.2118, 0.0000, 0.0000, 0.0000, 0.0039, 0.0118,\n",
              "           0.0157, 0.0000, 0.0000, 0.0118],\n",
              "          [0.0000, 0.0000, 0.0000, 0.0000, 0.0000, 0.0000, 0.0000, 0.0000,\n",
              "           0.0000, 0.0000, 0.0000, 0.0000, 0.0235, 0.0000, 0.4000, 0.8000,\n",
              "           0.6902, 0.5255, 0.5647, 0.4824, 0.0902, 0.0000, 0.0000, 0.0000,\n",
              "           0.0000, 0.0471, 0.0392, 0.0000],\n",
              "          [0.0000, 0.0000, 0.0000, 0.0000, 0.0000, 0.0000, 0.0000, 0.0000,\n",
              "           0.0000, 0.0000, 0.0000, 0.0000, 0.0000, 0.0000, 0.6078, 0.9255,\n",
              "           0.8118, 0.6980, 0.4196, 0.6118, 0.6314, 0.4275, 0.2510, 0.0902,\n",
              "           0.3020, 0.5098, 0.2824, 0.0588],\n",
              "          [0.0000, 0.0000, 0.0000, 0.0000, 0.0000, 0.0000, 0.0000, 0.0000,\n",
              "           0.0000, 0.0000, 0.0000, 0.0039, 0.0000, 0.2706, 0.8118, 0.8745,\n",
              "           0.8549, 0.8471, 0.8471, 0.6392, 0.4980, 0.4745, 0.4784, 0.5725,\n",
              "           0.5529, 0.3451, 0.6745, 0.2588],\n",
              "          [0.0000, 0.0000, 0.0000, 0.0000, 0.0000, 0.0000, 0.0000, 0.0000,\n",
              "           0.0000, 0.0039, 0.0039, 0.0039, 0.0000, 0.7843, 0.9098, 0.9098,\n",
              "           0.9137, 0.8980, 0.8745, 0.8745, 0.8431, 0.8353, 0.6431, 0.4980,\n",
              "           0.4824, 0.7686, 0.8980, 0.0000],\n",
              "          [0.0000, 0.0000, 0.0000, 0.0000, 0.0000, 0.0000, 0.0000, 0.0000,\n",
              "           0.0000, 0.0000, 0.0000, 0.0000, 0.0000, 0.7176, 0.8824, 0.8471,\n",
              "           0.8745, 0.8941, 0.9216, 0.8902, 0.8784, 0.8706, 0.8784, 0.8667,\n",
              "           0.8745, 0.9608, 0.6784, 0.0000],\n",
              "          [0.0000, 0.0000, 0.0000, 0.0000, 0.0000, 0.0000, 0.0000, 0.0000,\n",
              "           0.0000, 0.0000, 0.0000, 0.0000, 0.0000, 0.7569, 0.8941, 0.8549,\n",
              "           0.8353, 0.7765, 0.7059, 0.8314, 0.8235, 0.8275, 0.8353, 0.8745,\n",
              "           0.8627, 0.9529, 0.7922, 0.0000],\n",
              "          [0.0000, 0.0000, 0.0000, 0.0000, 0.0000, 0.0000, 0.0000, 0.0000,\n",
              "           0.0000, 0.0039, 0.0118, 0.0000, 0.0471, 0.8588, 0.8627, 0.8314,\n",
              "           0.8549, 0.7529, 0.6627, 0.8902, 0.8157, 0.8549, 0.8784, 0.8314,\n",
              "           0.8863, 0.7725, 0.8196, 0.2039],\n",
              "          [0.0000, 0.0000, 0.0000, 0.0000, 0.0000, 0.0000, 0.0000, 0.0000,\n",
              "           0.0000, 0.0000, 0.0235, 0.0000, 0.3882, 0.9569, 0.8706, 0.8627,\n",
              "           0.8549, 0.7961, 0.7765, 0.8667, 0.8431, 0.8353, 0.8706, 0.8627,\n",
              "           0.9608, 0.4667, 0.6549, 0.2196],\n",
              "          [0.0000, 0.0000, 0.0000, 0.0000, 0.0000, 0.0000, 0.0000, 0.0000,\n",
              "           0.0000, 0.0157, 0.0000, 0.0000, 0.2157, 0.9255, 0.8941, 0.9020,\n",
              "           0.8941, 0.9412, 0.9098, 0.8353, 0.8549, 0.8745, 0.9176, 0.8510,\n",
              "           0.8510, 0.8196, 0.3608, 0.0000],\n",
              "          [0.0000, 0.0000, 0.0039, 0.0157, 0.0235, 0.0275, 0.0078, 0.0000,\n",
              "           0.0000, 0.0000, 0.0000, 0.0000, 0.9294, 0.8863, 0.8510, 0.8745,\n",
              "           0.8706, 0.8588, 0.8706, 0.8667, 0.8471, 0.8745, 0.8980, 0.8431,\n",
              "           0.8549, 1.0000, 0.3020, 0.0000],\n",
              "          [0.0000, 0.0118, 0.0000, 0.0000, 0.0000, 0.0000, 0.0000, 0.0000,\n",
              "           0.0000, 0.2431, 0.5686, 0.8000, 0.8941, 0.8118, 0.8353, 0.8667,\n",
              "           0.8549, 0.8157, 0.8275, 0.8549, 0.8784, 0.8745, 0.8588, 0.8431,\n",
              "           0.8784, 0.9569, 0.6235, 0.0000],\n",
              "          [0.0000, 0.0000, 0.0000, 0.0000, 0.0706, 0.1725, 0.3216, 0.4196,\n",
              "           0.7412, 0.8941, 0.8627, 0.8706, 0.8510, 0.8863, 0.7843, 0.8039,\n",
              "           0.8275, 0.9020, 0.8784, 0.9176, 0.6902, 0.7373, 0.9804, 0.9725,\n",
              "           0.9137, 0.9333, 0.8431, 0.0000],\n",
              "          [0.0000, 0.2235, 0.7333, 0.8157, 0.8784, 0.8667, 0.8784, 0.8157,\n",
              "           0.8000, 0.8392, 0.8157, 0.8196, 0.7843, 0.6235, 0.9608, 0.7569,\n",
              "           0.8078, 0.8745, 1.0000, 1.0000, 0.8667, 0.9176, 0.8667, 0.8275,\n",
              "           0.8627, 0.9098, 0.9647, 0.0000],\n",
              "          [0.0118, 0.7922, 0.8941, 0.8784, 0.8667, 0.8275, 0.8275, 0.8392,\n",
              "           0.8039, 0.8039, 0.8039, 0.8627, 0.9412, 0.3137, 0.5882, 1.0000,\n",
              "           0.8980, 0.8667, 0.7373, 0.6039, 0.7490, 0.8235, 0.8000, 0.8196,\n",
              "           0.8706, 0.8941, 0.8824, 0.0000],\n",
              "          [0.3843, 0.9137, 0.7765, 0.8235, 0.8706, 0.8980, 0.8980, 0.9176,\n",
              "           0.9765, 0.8627, 0.7608, 0.8431, 0.8510, 0.9451, 0.2549, 0.2863,\n",
              "           0.4157, 0.4588, 0.6588, 0.8588, 0.8667, 0.8431, 0.8510, 0.8745,\n",
              "           0.8745, 0.8784, 0.8980, 0.1137],\n",
              "          [0.2941, 0.8000, 0.8314, 0.8000, 0.7569, 0.8039, 0.8275, 0.8824,\n",
              "           0.8471, 0.7255, 0.7725, 0.8078, 0.7765, 0.8353, 0.9412, 0.7647,\n",
              "           0.8902, 0.9608, 0.9373, 0.8745, 0.8549, 0.8314, 0.8196, 0.8706,\n",
              "           0.8627, 0.8667, 0.9020, 0.2627],\n",
              "          [0.1882, 0.7961, 0.7176, 0.7608, 0.8353, 0.7725, 0.7255, 0.7451,\n",
              "           0.7608, 0.7529, 0.7922, 0.8392, 0.8588, 0.8667, 0.8627, 0.9255,\n",
              "           0.8824, 0.8471, 0.7804, 0.8078, 0.7294, 0.7098, 0.6941, 0.6745,\n",
              "           0.7098, 0.8039, 0.8078, 0.4510],\n",
              "          [0.0000, 0.4784, 0.8588, 0.7569, 0.7020, 0.6706, 0.7176, 0.7686,\n",
              "           0.8000, 0.8235, 0.8353, 0.8118, 0.8275, 0.8235, 0.7843, 0.7686,\n",
              "           0.7608, 0.7490, 0.7647, 0.7490, 0.7765, 0.7529, 0.6902, 0.6118,\n",
              "           0.6549, 0.6941, 0.8235, 0.3608],\n",
              "          [0.0000, 0.0000, 0.2902, 0.7412, 0.8314, 0.7490, 0.6863, 0.6745,\n",
              "           0.6863, 0.7098, 0.7255, 0.7373, 0.7412, 0.7373, 0.7569, 0.7765,\n",
              "           0.8000, 0.8196, 0.8235, 0.8235, 0.8275, 0.7373, 0.7373, 0.7608,\n",
              "           0.7529, 0.8471, 0.6667, 0.0000],\n",
              "          [0.0078, 0.0000, 0.0000, 0.0000, 0.2588, 0.7843, 0.8706, 0.9294,\n",
              "           0.9373, 0.9490, 0.9647, 0.9529, 0.9569, 0.8667, 0.8627, 0.7569,\n",
              "           0.7490, 0.7020, 0.7137, 0.7137, 0.7098, 0.6902, 0.6510, 0.6588,\n",
              "           0.3882, 0.2275, 0.0000, 0.0000],\n",
              "          [0.0000, 0.0000, 0.0000, 0.0000, 0.0000, 0.0000, 0.0000, 0.1569,\n",
              "           0.2392, 0.1725, 0.2824, 0.1608, 0.1373, 0.0000, 0.0000, 0.0000,\n",
              "           0.0000, 0.0000, 0.0000, 0.0000, 0.0000, 0.0000, 0.0000, 0.0000,\n",
              "           0.0000, 0.0000, 0.0000, 0.0000],\n",
              "          [0.0000, 0.0000, 0.0000, 0.0000, 0.0000, 0.0000, 0.0000, 0.0000,\n",
              "           0.0000, 0.0000, 0.0000, 0.0000, 0.0000, 0.0000, 0.0000, 0.0000,\n",
              "           0.0000, 0.0000, 0.0000, 0.0000, 0.0000, 0.0000, 0.0000, 0.0000,\n",
              "           0.0000, 0.0000, 0.0000, 0.0000],\n",
              "          [0.0000, 0.0000, 0.0000, 0.0000, 0.0000, 0.0000, 0.0000, 0.0000,\n",
              "           0.0000, 0.0000, 0.0000, 0.0000, 0.0000, 0.0000, 0.0000, 0.0000,\n",
              "           0.0000, 0.0000, 0.0000, 0.0000, 0.0000, 0.0000, 0.0000, 0.0000,\n",
              "           0.0000, 0.0000, 0.0000, 0.0000]]]),\n",
              " 9)"
            ]
          },
          "metadata": {},
          "execution_count": 49
        }
      ]
    },
    {
      "cell_type": "code",
      "source": [
        "class_names = train_data.classes\n",
        "class_names"
      ],
      "metadata": {
        "colab": {
          "base_uri": "https://localhost:8080/"
        },
        "id": "iskpYgqdQKZr",
        "outputId": "dc8f84c4-aaf4-453b-ddba-24483a0dd5d4"
      },
      "execution_count": null,
      "outputs": [
        {
          "output_type": "execute_result",
          "data": {
            "text/plain": [
              "['T-shirt/top',\n",
              " 'Trouser',\n",
              " 'Pullover',\n",
              " 'Dress',\n",
              " 'Coat',\n",
              " 'Sandal',\n",
              " 'Shirt',\n",
              " 'Sneaker',\n",
              " 'Bag',\n",
              " 'Ankle boot']"
            ]
          },
          "metadata": {},
          "execution_count": 50
        }
      ]
    },
    {
      "cell_type": "code",
      "source": [
        "class_to_idx = train_data.class_to_idx\n",
        "class_to_idx"
      ],
      "metadata": {
        "colab": {
          "base_uri": "https://localhost:8080/"
        },
        "id": "v7c-rrGbQjh_",
        "outputId": "dcd28f8b-7fd2-4767-e835-892dded51fd6"
      },
      "execution_count": null,
      "outputs": [
        {
          "output_type": "execute_result",
          "data": {
            "text/plain": [
              "{'T-shirt/top': 0,\n",
              " 'Trouser': 1,\n",
              " 'Pullover': 2,\n",
              " 'Dress': 3,\n",
              " 'Coat': 4,\n",
              " 'Sandal': 5,\n",
              " 'Shirt': 6,\n",
              " 'Sneaker': 7,\n",
              " 'Bag': 8,\n",
              " 'Ankle boot': 9}"
            ]
          },
          "metadata": {},
          "execution_count": 51
        }
      ]
    },
    {
      "cell_type": "code",
      "source": [
        "train_data.targets"
      ],
      "metadata": {
        "colab": {
          "base_uri": "https://localhost:8080/"
        },
        "id": "zoAeMr5mQq_4",
        "outputId": "9666db62-68f0-4f13-f7db-17fe441f7a25"
      },
      "execution_count": null,
      "outputs": [
        {
          "output_type": "execute_result",
          "data": {
            "text/plain": [
              "tensor([9, 0, 0,  ..., 3, 0, 5])"
            ]
          },
          "metadata": {},
          "execution_count": 52
        }
      ]
    },
    {
      "cell_type": "code",
      "source": [
        "# Check the shape of our image:\n",
        "print(f'''image shape: {image.shape}, \\n\n",
        "image label number: {label} \\n\n",
        "image label: {class_names[label]}''')"
      ],
      "metadata": {
        "colab": {
          "base_uri": "https://localhost:8080/"
        },
        "id": "JiAnrX7FRBqj",
        "outputId": "db65ec89-ca2f-4707-ac4b-5ae1510c812d"
      },
      "execution_count": null,
      "outputs": [
        {
          "output_type": "stream",
          "name": "stdout",
          "text": [
            "image shape: torch.Size([1, 28, 28]), \n",
            "\n",
            "image label number: 9 \n",
            "\n",
            "image label: Ankle boot\n"
          ]
        }
      ]
    },
    {
      "cell_type": "markdown",
      "source": [
        "### 1.2 Visualizing our data"
      ],
      "metadata": {
        "id": "iLTh97odRF5L"
      }
    },
    {
      "cell_type": "code",
      "source": [
        "import matplotlib.pyplot as plt\n",
        "image, label = train_data[0]\n",
        "print(f'Image shape: {image.shape}')\n",
        "# plt.imshow(image) # you will get error because our shape doesn't match with matplotlib's image expectation.\n",
        "plt.imshow(image.squeeze()) # so you squeeze the image, by removing a single one dimension."
      ],
      "metadata": {
        "colab": {
          "base_uri": "https://localhost:8080/",
          "height": 467
        },
        "id": "VDLALnQkdpNv",
        "outputId": "980f3378-3dd3-41d4-f68d-b48a965db1d3"
      },
      "execution_count": null,
      "outputs": [
        {
          "output_type": "stream",
          "name": "stdout",
          "text": [
            "Image shape: torch.Size([1, 28, 28])\n"
          ]
        },
        {
          "output_type": "execute_result",
          "data": {
            "text/plain": [
              "<matplotlib.image.AxesImage at 0x7fd8508ffe20>"
            ]
          },
          "metadata": {},
          "execution_count": 54
        },
        {
          "output_type": "display_data",
          "data": {
            "text/plain": [
              "<Figure size 640x480 with 1 Axes>"
            ],
            "image/png": "[encoded data removed]"
          },
          "metadata": {}
        }
      ]
    },
    {
      "cell_type": "code",
      "source": [
        "plt.imshow(image.squeeze(), cmap='gray')\n",
        "plt.title(class_names[label])\n",
        "plt.axis(False)"
      ],
      "metadata": {
        "colab": {
          "base_uri": "https://localhost:8080/",
          "height": 446
        },
        "id": "F6AoVE87d2Ox",
        "outputId": "706a60cc-654c-4450-e99a-883c2e52af78"
      },
      "execution_count": null,
      "outputs": [
        {
          "output_type": "execute_result",
          "data": {
            "text/plain": [
              "(-0.5, 27.5, 27.5, -0.5)"
            ]
          },
          "metadata": {},
          "execution_count": 55
        },
        {
          "output_type": "display_data",
          "data": {
            "text/plain": [
              "<Figure size 640x480 with 1 Axes>"
            ],
            "image/png": "[encoded data removed]"
          },
          "metadata": {}
        }
      ]
    },
    {
      "cell_type": "code",
      "source": [
        "# Plot more images\n",
        "torch.manual_seed(42)\n",
        "torch.cuda.manual_seed(42)\n",
        "fig = plt.figure(figsize=(10,7))\n",
        "rows, cols = 4, 4\n",
        "for i in range(1, rows*cols+1):\n",
        "  random_idx = torch.randint(0, len(train_data), size=[1]).item()\n",
        "  print(random_idx)\n",
        "  img, label = train_data[random_idx]\n",
        "  fig.add_subplot(rows, cols, i)\n",
        "  plt.imshow(img.squeeze(), cmap='gray')\n",
        "  plt.title(class_names[label])\n",
        "  plt.axis(False)"
      ],
      "metadata": {
        "colab": {
          "base_uri": "https://localhost:8080/",
          "height": 809
        },
        "id": "OTZg-hIheQ_4",
        "outputId": "0d8aada1-fd10-4fa1-9f87-a82198e702d8"
      },
      "execution_count": null,
      "outputs": [
        {
          "output_type": "stream",
          "name": "stdout",
          "text": [
            "37542\n",
            "46067\n",
            "46876\n",
            "46414\n",
            "10026\n",
            "27335\n",
            "38620\n",
            "11924\n",
            "14950\n",
            "57113\n",
            "31378\n",
            "29014\n",
            "47210\n",
            "18954\n",
            "18231\n",
            "47572\n"
          ]
        },
        {
          "output_type": "display_data",
          "data": {
            "text/plain": [
              "<Figure size 1000x700 with 16 Axes>"
            ],
            "image/png": "[encoded data removed]"
          },
          "metadata": {}
        }
      ]
    },
    {
      "cell_type": "code",
      "source": [
        "train_data, test_data"
      ],
      "metadata": {
        "colab": {
          "base_uri": "https://localhost:8080/"
        },
        "id": "auzB3jxXgCWR",
        "outputId": "b84b3879-94e8-4a75-8c4d-e98f3f837401"
      },
      "execution_count": null,
      "outputs": [
        {
          "output_type": "execute_result",
          "data": {
            "text/plain": [
              "(Dataset FashionMNIST\n",
              "     Number of datapoints: 60000\n",
              "     Root location: data\n",
              "     Split: Train\n",
              "     StandardTransform\n",
              " Transform: ToTensor(),\n",
              " Dataset FashionMNIST\n",
              "     Number of datapoints: 10000\n",
              "     Root location: data\n",
              "     Split: Test\n",
              "     StandardTransform\n",
              " Transform: ToTensor())"
            ]
          },
          "metadata": {},
          "execution_count": 57
        }
      ]
    },
    {
      "cell_type": "markdown",
      "source": [
        "## 2. Prepare DataLoader:\n",
        "\n",
        "Right now, our data is in the form of Pytorch Datasets.\n",
        "\n",
        "DataLoader turns our datasets into a Python iterable.\n",
        "\n",
        "More specifically, we want to turn our data into batches or mini-batches.\n",
        "\n",
        "Why would we do this?\n",
        "\n",
        "1. It is more computationally efficient, as in, your computing hardware may not be able to look (store in memory) at 60000 images in one hit. So we break it down to 32 images at a time. (batch size of 32)\n",
        "2. It gives our neural network more chances to update it's gradients per epoch."
      ],
      "metadata": {
        "id": "WPmh0MgLe_QN"
      }
    },
    {
      "cell_type": "code",
      "source": [
        "from torch.utils.data import DataLoader\n",
        "\n",
        "# Setup the batch size hyperparameter\n",
        "BATCH_SIZE = 32\n",
        "\n",
        "# Turn datasets into iterables (batches)\n",
        "train_dataloader = DataLoader(dataset = train_data,\n",
        "                              batch_size=BATCH_SIZE,\n",
        "                              shuffle=True)\n",
        "\n",
        "test_dataloader = DataLoader(dataset = test_data,\n",
        "                             batch_size=BATCH_SIZE,\n",
        "                             shuffle=False)\n",
        "\n",
        "train_dataloader, test_dataloader"
      ],
      "metadata": {
        "colab": {
          "base_uri": "https://localhost:8080/"
        },
        "id": "98GF0q3vgAWf",
        "outputId": "fe46ef15-c22a-4645-808e-8434504fbb3f"
      },
      "execution_count": null,
      "outputs": [
        {
          "output_type": "execute_result",
          "data": {
            "text/plain": [
              "(<torch.utils.data.dataloader.DataLoader at 0x7fd8503c48e0>,\n",
              " <torch.utils.data.dataloader.DataLoader at 0x7fd8503c6bc0>)"
            ]
          },
          "metadata": {},
          "execution_count": 58
        }
      ]
    },
    {
      "cell_type": "code",
      "source": [
        "# So, what was created under the hood?\n",
        "print(f'''Dataloaders: {train_dataloader, test_dataloader}\\n\n",
        "Length of train dataloader: {len(train_dataloader)} batches of {BATCH_SIZE}\\n\n",
        "Length of test dataloader: {len(test_dataloader)} batches of {BATCH_SIZE}''')"
      ],
      "metadata": {
        "colab": {
          "base_uri": "https://localhost:8080/"
        },
        "id": "7d3v5TrCh6tW",
        "outputId": "6c93e7eb-4df7-48e2-84b1-ac056a5ff0fc"
      },
      "execution_count": null,
      "outputs": [
        {
          "output_type": "stream",
          "name": "stdout",
          "text": [
            "Dataloaders: (<torch.utils.data.dataloader.DataLoader object at 0x7fd8503c48e0>, <torch.utils.data.dataloader.DataLoader object at 0x7fd8503c6bc0>)\n",
            "\n",
            "Length of train dataloader: 1875 batches of 32\n",
            "\n",
            "Length of test dataloader: 313 batches of 32\n"
          ]
        }
      ]
    },
    {
      "cell_type": "code",
      "source": [
        "# Check out what's inside the training dataloader:\n",
        "train_features_batch, train_labels_batch = next(iter(train_dataloader))\n",
        "train_features_batch.shape, train_labels_batch.shape"
      ],
      "metadata": {
        "colab": {
          "base_uri": "https://localhost:8080/"
        },
        "id": "JzkxfMYFjN3N",
        "outputId": "42aa7414-f1f7-416c-efde-73dc8316cb48"
      },
      "execution_count": null,
      "outputs": [
        {
          "output_type": "execute_result",
          "data": {
            "text/plain": [
              "(torch.Size([32, 1, 28, 28]), torch.Size([32]))"
            ]
          },
          "metadata": {},
          "execution_count": 60
        }
      ]
    },
    {
      "cell_type": "code",
      "source": [
        "# Show a sample\n",
        "torch.manual_seed(42)\n",
        "torch.cuda.manual_seed(42)\n",
        "random_idx = torch.randint(0, len(train_features_batch), size=[1]).item()\n",
        "img, label = train_features_batch[random_idx], train_labels_batch[random_idx]\n",
        "plt.imshow(img.squeeze(), cmap='gray')\n",
        "plt.title(class_names[label])\n",
        "plt.axis(False)\n",
        "print(f'Image size: {img.shape}')\n",
        "print(f'Label: {label}, label size: {label.shape}')"
      ],
      "metadata": {
        "colab": {
          "base_uri": "https://localhost:8080/",
          "height": 465
        },
        "id": "f4L2RjI7ih8W",
        "outputId": "209aef84-2761-47fd-9943-e130e65a1e96"
      },
      "execution_count": null,
      "outputs": [
        {
          "output_type": "stream",
          "name": "stdout",
          "text": [
            "Image size: torch.Size([1, 28, 28])\n",
            "Label: 6, label size: torch.Size([])\n"
          ]
        },
        {
          "output_type": "display_data",
          "data": {
            "text/plain": [
              "<Figure size 640x480 with 1 Axes>"
            ],
            "image/png": "[encoded data removed]"
          },
          "metadata": {}
        }
      ]
    },
    {
      "cell_type": "markdown",
      "source": [
        "## 3. Model 0: Build a baseline model\n",
        "\n",
        "When starting to build a series of machine learning modeling experiments, it's best practice to start with a baseline model\n",
        "\n",
        "A baseline model is a simple model you will try and improve upon with subsequent models/experiments.\n",
        "\n",
        "In other words, start simply and add complexity when necessary"
      ],
      "metadata": {
        "id": "OUjY8WnykBoe"
      }
    },
    {
      "cell_type": "code",
      "source": [
        "# Create a flatten layer\n",
        "from torch import nn\n",
        "flatten_model = nn.Flatten()\n",
        "\n",
        "# Get a single sample\n",
        "x = train_features_batch[0]\n",
        "print(f'shape before flattening: {x.shape} -> [color_channels, height, width]')\n",
        "\n",
        "# Flatten the sample:\n",
        "output = flatten_model(x) # perform the forward pass\n",
        "print(f'shape after flattening: {output.shape} -> [color_channels, height*width]')\n"
      ],
      "metadata": {
        "colab": {
          "base_uri": "https://localhost:8080/"
        },
        "id": "XxnQfb8xXeJh",
        "outputId": "ad39c78a-bb47-40f4-ac2a-c35886e89511"
      },
      "execution_count": null,
      "outputs": [
        {
          "output_type": "stream",
          "name": "stdout",
          "text": [
            "shape before flattening: torch.Size([1, 28, 28]) -> [color_channels, height, width]\n",
            "shape after flattening: torch.Size([1, 784]) -> [color_channels, height*width]\n"
          ]
        }
      ]
    },
    {
      "cell_type": "code",
      "source": [
        "from torch import nn\n",
        "class FashionMNISTModelV0(nn.Module):\n",
        "  def __init__(self,\n",
        "               input_shape: int,\n",
        "               hidden_units: int,\n",
        "               output_shape: int):\n",
        "    super().__init__()\n",
        "    self.layer_stack = nn.Sequential(\n",
        "        nn.Flatten(),\n",
        "        nn.Linear(in_features=input_shape,\n",
        "                  out_features=hidden_units),\n",
        "        nn.Linear(in_features=hidden_units,\n",
        "                  out_features=output_shape)\n",
        "    )\n",
        "\n",
        "  def forward(self, x: torch.Tensor) -> torch.Tensor:\n",
        "    return self.layer_stack(x)\n"
      ],
      "metadata": {
        "id": "bzhBUS6zX7uD"
      },
      "execution_count": null,
      "outputs": []
    },
    {
      "cell_type": "code",
      "source": [
        "torch.manual_seed(42)\n",
        "torch.cuda.manual_seed(42)\n",
        "\n",
        "model_0  = FashionMNISTModelV0(\n",
        "    input_shape = 784, # 28*28 i.e. output of flatten\n",
        "    hidden_units = 10,\n",
        "    output_shape = len(class_names) # one for every class\n",
        ").to('cpu')\n",
        "\n",
        "model_0"
      ],
      "metadata": {
        "colab": {
          "base_uri": "https://localhost:8080/"
        },
        "id": "ANaemlO5ZqPw",
        "outputId": "2ec9be43-691e-4c41-db61-82985981bcd7"
      },
      "execution_count": null,
      "outputs": [
        {
          "output_type": "execute_result",
          "data": {
            "text/plain": [
              "FashionMNISTModelV0(\n",
              "  (layer_stack): Sequential(\n",
              "    (0): Flatten(start_dim=1, end_dim=-1)\n",
              "    (1): Linear(in_features=784, out_features=10, bias=True)\n",
              "    (2): Linear(in_features=10, out_features=10, bias=True)\n",
              "  )\n",
              ")"
            ]
          },
          "metadata": {},
          "execution_count": 64
        }
      ]
    },
    {
      "cell_type": "code",
      "source": [
        "dummy_x = torch.rand([1,1,28,28])\n",
        "print(model_0(dummy_x), '\\n', model_0(dummy_x).shape)"
      ],
      "metadata": {
        "colab": {
          "base_uri": "https://localhost:8080/"
        },
        "id": "SYRol5BYaZun",
        "outputId": "b788a786-a19f-49aa-9584-06ab2d908635"
      },
      "execution_count": null,
      "outputs": [
        {
          "output_type": "stream",
          "name": "stdout",
          "text": [
            "tensor([[-0.0315,  0.3171,  0.0531, -0.2525,  0.5959,  0.2112,  0.3233,  0.2694,\n",
            "         -0.1004,  0.0157]], grad_fn=<AddmmBackward0>) \n",
            " torch.Size([1, 10])\n"
          ]
        }
      ]
    },
    {
      "cell_type": "code",
      "source": [
        "model_0.state_dict()"
      ],
      "metadata": {
        "colab": {
          "base_uri": "https://localhost:8080/"
        },
        "id": "6wrYbDMqbA1I",
        "outputId": "265a287a-2268-4a0d-8218-92ee25e5d635"
      },
      "execution_count": null,
      "outputs": [
        {
          "output_type": "execute_result",
          "data": {
            "text/plain": [
              "OrderedDict([('layer_stack.1.weight',\n",
              "              tensor([[ 0.0273,  0.0296, -0.0084,  ..., -0.0142,  0.0093,  0.0135],\n",
              "                      [-0.0188, -0.0354,  0.0187,  ..., -0.0106, -0.0001,  0.0115],\n",
              "                      [-0.0008,  0.0017,  0.0045,  ..., -0.0127, -0.0188,  0.0059],\n",
              "                      ...,\n",
              "                      [-0.0116,  0.0273, -0.0344,  ...,  0.0176,  0.0283, -0.0011],\n",
              "                      [-0.0230,  0.0257,  0.0291,  ..., -0.0187, -0.0087,  0.0001],\n",
              "                      [ 0.0176, -0.0147,  0.0053,  ..., -0.0336, -0.0221,  0.0205]])),\n",
              "             ('layer_stack.1.bias',\n",
              "              tensor([-0.0093,  0.0283, -0.0033,  0.0255,  0.0017,  0.0037, -0.0302, -0.0123,\n",
              "                       0.0018,  0.0163])),\n",
              "             ('layer_stack.2.weight',\n",
              "              tensor([[ 0.0614, -0.0687,  0.0021,  0.2718,  0.2109,  0.1079, -0.2279, -0.1063,\n",
              "                        0.2019,  0.2847],\n",
              "                      [-0.1495,  0.1344, -0.0740,  0.2006, -0.0475, -0.2514, -0.3130, -0.0118,\n",
              "                        0.0932, -0.1864],\n",
              "                      [ 0.2488,  0.1500,  0.1907,  0.1457, -0.3050, -0.0580,  0.1643,  0.1565,\n",
              "                       -0.2877, -0.1792],\n",
              "                      [ 0.2305, -0.2618,  0.2397, -0.0610,  0.0232,  0.1542,  0.0851, -0.2027,\n",
              "                        0.1030, -0.2715],\n",
              "                      [-0.1596, -0.0555, -0.0633,  0.2302, -0.1726,  0.2654,  0.1473,  0.1029,\n",
              "                        0.2252, -0.2160],\n",
              "                      [-0.2725,  0.0118,  0.1559,  0.1596,  0.0132,  0.3024,  0.1124,  0.1366,\n",
              "                       -0.1533,  0.0965],\n",
              "                      [-0.1184, -0.2555, -0.2057, -0.1909, -0.0477, -0.1324,  0.2905,  0.1307,\n",
              "                       -0.2629,  0.0133],\n",
              "                      [ 0.2727, -0.0127,  0.0513,  0.0863, -0.1043, -0.2047, -0.1185, -0.0825,\n",
              "                        0.2488, -0.2571],\n",
              "                      [ 0.0425, -0.1209, -0.0336, -0.0281, -0.1227,  0.0730,  0.0747, -0.1816,\n",
              "                        0.1943,  0.2853],\n",
              "                      [-0.1310,  0.0645, -0.1171,  0.2168, -0.0245, -0.2820,  0.0736,  0.2621,\n",
              "                        0.0012, -0.0810]])),\n",
              "             ('layer_stack.2.bias',\n",
              "              tensor([-0.0087,  0.1791,  0.2712, -0.0791,  0.1685,  0.1762,  0.2825,  0.2266,\n",
              "                      -0.2612, -0.2613]))])"
            ]
          },
          "metadata": {},
          "execution_count": 66
        }
      ]
    },
    {
      "cell_type": "markdown",
      "source": [
        "### 3.1 Setup loss, optimizer and evaluation metrics\n",
        "\n",
        "* Loss function - since we're working with multi class data our loss function will be `nn.CrossEntropyLoss()`\n",
        "* Optimizer - our optimizer `torch.optim.SGD()`\n",
        "* Evaluation Metric - since we are working on a classification problem, let's use accuracy on our evaluation metric.\n",
        "(Accuracy is a classification evaluation metric.Others are precision, recall, f1-score, confusion matrix, classification report etc.)\n",
        "You could use torchmetrics for evaluation.\n",
        "But we will use our own function here."
      ],
      "metadata": {
        "id": "NgRtXDeAb-8e"
      }
    },
    {
      "cell_type": "code",
      "source": [
        "import requests\n",
        "from pathlib import Path\n",
        "\n",
        "# Download helper functions from Learn PyTorch repo:\n",
        "if Path('helper_functions.py').is_file():\n",
        "  print('helper_functions.py already exists, skipping download...')\n",
        "else:\n",
        "  print('Downloading helper functions...')\n",
        "  request = requests.get('https://raw.githubusercontent.com/mrdbourke/pytorch-deep-learning/main/helper_functions.py')\n",
        "  print('Downloaded helper functions. Saving helper functions...')\n",
        "  with open('helper_functions.py', 'wb') as f:\n",
        "    f.write(request.content)\n",
        "  print('saved helper_functions.py')\n"
      ],
      "metadata": {
        "colab": {
          "base_uri": "https://localhost:8080/"
        },
        "id": "Br6awcBbbscF",
        "outputId": "12c4b591-14dc-46d7-c8a6-4ad38d9c27e7"
      },
      "execution_count": null,
      "outputs": [
        {
          "output_type": "stream",
          "name": "stdout",
          "text": [
            "helper_functions.py already exists, skipping download...\n"
          ]
        }
      ]
    },
    {
      "cell_type": "code",
      "source": [
        "# import accuracy metric from helper function\n",
        "from helper_functions import accuracy_fn\n",
        "\n",
        "# setup loss function and optimizer\n",
        "loss_fn = nn.CrossEntropyLoss()\n",
        "optimizer = torch.optim.SGD(params=model_0.parameters(), lr=0.1)"
      ],
      "metadata": {
        "id": "iB_iLdHtdovw"
      },
      "execution_count": null,
      "outputs": []
    },
    {
      "cell_type": "markdown",
      "source": [
        "### 3.2 Creating a function to time our experiments:\n",
        "\n",
        "Machine learning is very experimental.\n",
        "\n",
        "Two of the main things you'll often want to track are:\n",
        "1. Model's performance (loss and accuracy values etc.)\n",
        "2. How fast it runs"
      ],
      "metadata": {
        "id": "prFvf1vLeTEs"
      }
    },
    {
      "cell_type": "code",
      "source": [
        "from timeit import default_timer as timer\n",
        "def print_train_time(start: float,\n",
        "                     end: float,\n",
        "                     device: torch.device = None):\n",
        "  \"\"\"Print difference between start and end time.\"\"\"\n",
        "  total_time = end - start\n",
        "  print(f'Train time on {device}: {total_time:.3f} seconds')\n",
        "  return total_time"
      ],
      "metadata": {
        "id": "GlA6Q4dAeYMD"
      },
      "execution_count": null,
      "outputs": []
    },
    {
      "cell_type": "code",
      "source": [
        "start_time = timer()\n",
        "# some code...\n",
        "end_time = timer()\n",
        "print_train_time(start=start_time, end=end_time, device='cpu')"
      ],
      "metadata": {
        "colab": {
          "base_uri": "https://localhost:8080/"
        },
        "id": "WIyhcv7afb4i",
        "outputId": "185d1547-d2b7-49d5-e256-b44cf3bf360b"
      },
      "execution_count": null,
      "outputs": [
        {
          "output_type": "stream",
          "name": "stdout",
          "text": [
            "Train time on cpu: 0.000 seconds\n"
          ]
        },
        {
          "output_type": "execute_result",
          "data": {
            "text/plain": [
              "4.5635999867954524e-05"
            ]
          },
          "metadata": {},
          "execution_count": 70
        }
      ]
    },
    {
      "cell_type": "markdown",
      "source": [
        "### 3.3 Creating a training loop and training a model on batches of data\n",
        "\n",
        "1. Loop through epochs.\n",
        "2. Loop through training batches, perform training steps, calculate the train loss *per batch*\n",
        "3. Loop through testing batches, perform testing steps, calculate the test loss *per batch*.\n",
        "4. Print out what's happening.\n",
        "5. Time it all (for fun)."
      ],
      "metadata": {
        "id": "vimARvN2fm7Z"
      }
    },
    {
      "cell_type": "code",
      "source": [
        "# Import tqdm for progress bar\n",
        "from tqdm.auto import tqdm\n",
        "\n",
        "# Set the seed and start the timer\n",
        "torch.manual_seed(42)\n",
        "torch.cuda.manual_seed(42)\n",
        "train_time_start_on_cpu = timer()\n",
        "\n",
        "# Set the number of epochs (we'll keep this small for faster training time)\n",
        "epochs = 3\n",
        "\n",
        "# Create training and test loop\n",
        "for epoch in tqdm(range(epochs)):\n",
        "  print(f'Epoch: {epoch} \\n----')\n",
        "  ### Training\n",
        "  train_loss = 0\n",
        "  # Add a loop to loop through the training batches\n",
        "  for batch, (X,y) in enumerate(train_dataloader):\n",
        "    model_0.train()\n",
        "    # 1. Forward pass\n",
        "    y_pred=model_0(X)\n",
        "\n",
        "    # 2. Calculate loss (per batch):\n",
        "    loss = loss_fn(y_pred, y)\n",
        "    train_loss += loss # accumulate training loss\n",
        "\n",
        "    # 3. Optimizer zero grad\n",
        "    optimizer.zero_grad()\n",
        "\n",
        "    # 4. Loss backward\n",
        "    loss.backward()\n",
        "\n",
        "    # 5. Optimizer step:\n",
        "    optimizer.step()\n",
        "    '''The optimizer will optimize our model's parameters once per batch\n",
        "    rather than once per epoch'''\n",
        "\n",
        "    # print out whats happening:\n",
        "    if batch%400 == 0:\n",
        "       print(f'Looked at {batch * len(X)} / {len(train_dataloader.dataset)} samples')\n",
        "\n",
        "  # Divide total train loss by length of train dataloader:\n",
        "  train_loss /= len(train_dataloader)\n",
        "\n",
        "\n",
        "  ### Testing\n",
        "  test_loss, test_acc = 0, 0\n",
        "  model_0.eval()\n",
        "  with torch.inference_mode():\n",
        "    for X_test, y_test in test_dataloader:\n",
        "      #1. Forward Pass:\n",
        "      test_pred = model_0(X_test)\n",
        "\n",
        "      # 2. Calculate loss (accumulatively)\n",
        "      test_loss += loss_fn(test_pred, y_test)\n",
        "\n",
        "      # 3. Calculate accuracy\n",
        "      test_acc += accuracy_fn(y_true=y_test, y_pred=test_pred.argmax(dim=1))\n",
        "\n",
        "    # Calculate the test loss average per batch\n",
        "    test_loss /= len(test_dataloader)\n",
        "\n",
        "    # Calculate the test acc average per batch\n",
        "    test_acc /= len(test_dataloader)\n",
        "\n",
        "  # Print out whats happenting:\n",
        "  print(f'\\nTrain loss: {train_loss:.4f} | Test loss: {test_loss:.4f} | Test Acc: {test_acc: .4f}')\n",
        "\n",
        "# Calculate training time\n",
        "train_time_end_on_cpu = timer()\n",
        "total_train_time_model_0 = print_train_time(start=train_time_start_on_cpu,\n",
        "                                            end=train_time_end_on_cpu,\n",
        "                                            device=str(next(model_0.parameters()).device))"
      ],
      "metadata": {
        "colab": {
          "base_uri": "https://localhost:8080/",
          "height": 566,
          "referenced_widgets": [
            "f48f67d3b731447f958f5a78b8e5ac70",
            "dc01e8c51ad74089b05e6557bb16fbad",
            "5e609fdf5f2546f1a4c061d5f62f9376",
            "493c23f79f7d46f48df57b304577079f",
            "28515eb9c5314e529e6e5e2571219fa0",
            "9d7beeb8c71b48f7940cb658940c2bf3",
            "ab65719de74240dd925eb87956356405",
            "60ab170a8c2741f7be991585e3dd38a1",
            "5c0aa3fa77054d55a5e115e6bf5a1246",
            "2080cfc8bf5c4af9965b37a66d609c53",
            "a28905228c0742a783f99ba10ad20dbe"
          ]
        },
        "id": "kXD5AJFXgDBe",
        "outputId": "c74fc5c9-04a3-4b09-8253-0972124b9e53"
      },
      "execution_count": null,
      "outputs": [
        {
          "output_type": "display_data",
          "data": {
            "text/plain": [
              "  0%|          | 0/3 [00:00<?, ?it/s]"
            ],
            "application/vnd.jupyter.widget-view+json": {
              "version_major": 2,
              "version_minor": 0,
              "model_id": "f48f67d3b731447f958f5a78b8e5ac70"
            }
          },
          "metadata": {}
        },
        {
          "output_type": "stream",
          "name": "stdout",
          "text": [
            "Epoch: 0 \n",
            "----\n",
            "Looked at 0 / 60000 samples\n",
            "Looked at 12800 / 60000 samples\n",
            "Looked at 25600 / 60000 samples\n",
            "Looked at 38400 / 60000 samples\n",
            "Looked at 51200 / 60000 samples\n",
            "\n",
            "Train loss: 0.5904 | Test loss: 0.5095 | Test Acc:  82.0387\n",
            "Epoch: 1 \n",
            "----\n",
            "Looked at 0 / 60000 samples\n",
            "Looked at 12800 / 60000 samples\n",
            "Looked at 25600 / 60000 samples\n",
            "Looked at 38400 / 60000 samples\n",
            "Looked at 51200 / 60000 samples\n",
            "\n",
            "Train loss: 0.4763 | Test loss: 0.4799 | Test Acc:  83.1969\n",
            "Epoch: 2 \n",
            "----\n",
            "Looked at 0 / 60000 samples\n",
            "Looked at 12800 / 60000 samples\n",
            "Looked at 25600 / 60000 samples\n",
            "Looked at 38400 / 60000 samples\n",
            "Looked at 51200 / 60000 samples\n",
            "\n",
            "Train loss: 0.4550 | Test loss: 0.4766 | Test Acc:  83.4265\n",
            "Train time on cpu: 31.103 seconds\n"
          ]
        }
      ]
    },
    {
      "cell_type": "code",
      "source": [
        "next(model_0.parameters()).device"
      ],
      "metadata": {
        "colab": {
          "base_uri": "https://localhost:8080/"
        },
        "id": "Lt--S22hmcHI",
        "outputId": "e9bd8ce4-2d16-4b49-c1f7-113d9ef38db4"
      },
      "execution_count": null,
      "outputs": [
        {
          "output_type": "execute_result",
          "data": {
            "text/plain": [
              "device(type='cpu')"
            ]
          },
          "metadata": {},
          "execution_count": 72
        }
      ]
    },
    {
      "cell_type": "markdown",
      "source": [
        "## 4. Make predictions and get Model 0 results"
      ],
      "metadata": {
        "id": "K7JVV24jmhr-"
      }
    },
    {
      "cell_type": "code",
      "source": [
        "torch.manual_seed(42)\n",
        "def eval_model(model: torch.nn.Module,\n",
        "               data_loader: torch.utils.data.DataLoader,\n",
        "               loss_fn: torch.nn.Module,\n",
        "               accuracy_fn):\n",
        "  \"\"\"Returns a dictionary containing the results of model predicting on data_loader\"\"\"\n",
        "  loss, acc = 0,0\n",
        "  model.eval()\n",
        "  with torch.inference_mode():\n",
        "    for X,y in tqdm(data_loader):\n",
        "      # Make predictions\n",
        "      y_pred = model(X)\n",
        "\n",
        "      # Accumulate the loss and acc values per batch\n",
        "      loss += loss_fn(y_pred, y)\n",
        "      acc += accuracy_fn(y_true=y,\n",
        "                         y_pred=y_pred.argmax(dim=1))\n",
        "\n",
        "    # Scale the loss and acc to find the average loss and acc per batch\n",
        "    loss /= len(data_loader)\n",
        "    acc /= len(data_loader)\n",
        "\n",
        "  return {'model_name': model.__class__.__name__, # only works when model was created with a class\n",
        "          'model_loss': loss.item(),\n",
        "          'model_acc': acc}\n",
        "\n",
        "# Calculate model 0 results on test datasets\n",
        "model_0_results = eval_model(model=model_0,\n",
        "                             data_loader = test_dataloader,\n",
        "                             loss_fn = loss_fn,\n",
        "                             accuracy_fn= accuracy_fn)\n",
        "model_0_results"
      ],
      "metadata": {
        "colab": {
          "base_uri": "https://localhost:8080/",
          "height": 104,
          "referenced_widgets": [
            "85824994077c476c82271b9793c12327",
            "899c6816e51c4fd28b2ca16601c1dd31",
            "c8d71d097f5d4387902a770995c90248",
            "bcecefeebddc4cbab62f7824abd6709b",
            "ef178cf107d24d4a8d49c609b3e76c3a",
            "ccd811ca80cc4b018800c20627c7b959",
            "287cbc8d95c0479983d9c2c2f50658e0",
            "39f1f07409c74b1c8775edb2ae489535",
            "43ec0817b578414da58c67c0669568ab",
            "83d3008152fa4b929c1a89131bb2fd59",
            "f05b4e165a4c46839ce24b69ad8296af"
          ]
        },
        "id": "PFY_G1w0poAY",
        "outputId": "89fb3049-8b7a-44f2-c817-7a76decfd87d"
      },
      "execution_count": null,
      "outputs": [
        {
          "output_type": "display_data",
          "data": {
            "text/plain": [
              "  0%|          | 0/313 [00:00<?, ?it/s]"
            ],
            "application/vnd.jupyter.widget-view+json": {
              "version_major": 2,
              "version_minor": 0,
              "model_id": "85824994077c476c82271b9793c12327"
            }
          },
          "metadata": {}
        },
        {
          "output_type": "execute_result",
          "data": {
            "text/plain": [
              "{'model_name': 'FashionMNISTModelV0',\n",
              " 'model_loss': 0.47663888335227966,\n",
              " 'model_acc': 83.42651757188499}"
            ]
          },
          "metadata": {},
          "execution_count": 73
        }
      ]
    },
    {
      "cell_type": "markdown",
      "source": [
        "## 5. Setup device agnostic code (for using a GPU if there is one)"
      ],
      "metadata": {
        "id": "ybNM697nrB8j"
      }
    },
    {
      "cell_type": "code",
      "source": [
        "device = 'cuda' if torch.cuda.is_available() else 'cpu'"
      ],
      "metadata": {
        "id": "dPmjcHGqrgub"
      },
      "execution_count": null,
      "outputs": []
    },
    {
      "cell_type": "code",
      "source": [
        "!nvidia-smi"
      ],
      "metadata": {
        "colab": {
          "base_uri": "https://localhost:8080/"
        },
        "id": "0ec3gUbvrlFa",
        "outputId": "58f7d15e-3e5d-47d7-a909-dea103ed3a05"
      },
      "execution_count": null,
      "outputs": [
        {
          "output_type": "stream",
          "name": "stdout",
          "text": [
            "Thu Nov 23 15:49:09 2023       \n",
            "+-----------------------------------------------------------------------------+\n",
            "| NVIDIA-SMI 525.105.17   Driver Version: 525.105.17   CUDA Version: 12.0     |\n",
            "|-------------------------------+----------------------+----------------------+\n",
            "| GPU  Name        Persistence-M| Bus-Id        Disp.A | Volatile Uncorr. ECC |\n",
            "| Fan  Temp  Perf  Pwr:Usage/Cap|         Memory-Usage | GPU-Util  Compute M. |\n",
            "|                               |                      |               MIG M. |\n",
            "|===============================+======================+======================|\n",
            "|   0  Tesla T4            Off  | 00000000:00:04.0 Off |                    0 |\n",
            "| N/A   73C    P0    29W /  70W |    879MiB / 15360MiB |      0%      Default |\n",
            "|                               |                      |                  N/A |\n",
            "+-------------------------------+----------------------+----------------------+\n",
            "                                                                               \n",
            "+-----------------------------------------------------------------------------+\n",
            "| Processes:                                                                  |\n",
            "|  GPU   GI   CI        PID   Type   Process name                  GPU Memory |\n",
            "|        ID   ID                                                   Usage      |\n",
            "|=============================================================================|\n",
            "+-----------------------------------------------------------------------------+\n"
          ]
        }
      ]
    },
    {
      "cell_type": "code",
      "source": [
        "torch.cuda.is_available()"
      ],
      "metadata": {
        "colab": {
          "base_uri": "https://localhost:8080/"
        },
        "id": "NioCETnDrp_S",
        "outputId": "418d738c-83bc-463c-f3de-b040dd923743"
      },
      "execution_count": null,
      "outputs": [
        {
          "output_type": "execute_result",
          "data": {
            "text/plain": [
              "True"
            ]
          },
          "metadata": {},
          "execution_count": 76
        }
      ]
    },
    {
      "cell_type": "code",
      "source": [
        "device"
      ],
      "metadata": {
        "colab": {
          "base_uri": "https://localhost:8080/",
          "height": 36
        },
        "id": "gcEQzGptsRrZ",
        "outputId": "a0022a46-f623-4e5d-ec79-a1c8e3acb837"
      },
      "execution_count": null,
      "outputs": [
        {
          "output_type": "execute_result",
          "data": {
            "text/plain": [
              "'cuda'"
            ],
            "application/vnd.google.colaboratory.intrinsic+json": {
              "type": "string"
            }
          },
          "metadata": {},
          "execution_count": 77
        }
      ]
    },
    {
      "cell_type": "markdown",
      "source": [
        "## 6. Model 1: Building a better model with non-linearity\n",
        "\n",
        "We learned about the power of non-linearity in notebook-02."
      ],
      "metadata": {
        "id": "IG4_dhB1skb3"
      }
    },
    {
      "cell_type": "code",
      "source": [
        "# Create a model with non-linear and linear layers\n",
        "class FashionMNISTModelV1(nn.Module):\n",
        "  def __init__(self,\n",
        "               input_shape: int,\n",
        "               hidden_units: int,\n",
        "               output_shape: int):\n",
        "    super().__init__()\n",
        "    self.layer_stack = nn.Sequential(\n",
        "        nn.Flatten(),\n",
        "        nn.Linear(in_features=input_shape, out_features=hidden_units),\n",
        "        nn.ReLU(),\n",
        "        nn.Linear(in_features=hidden_units, out_features=output_shape),\n",
        "        nn.ReLU()\n",
        "    )\n",
        "\n",
        "  def forward(self, x: torch.Tensor) -> torch.Tensor:\n",
        "    return self.layer_stack(x)"
      ],
      "metadata": {
        "id": "J0l0SAC2sTTR"
      },
      "execution_count": null,
      "outputs": []
    },
    {
      "cell_type": "code",
      "source": [
        "next(model_0.parameters()).device"
      ],
      "metadata": {
        "colab": {
          "base_uri": "https://localhost:8080/"
        },
        "id": "8H_3TSPouID8",
        "outputId": "18249e4a-0d7f-4dd1-9d3e-37036abf55b4"
      },
      "execution_count": null,
      "outputs": [
        {
          "output_type": "execute_result",
          "data": {
            "text/plain": [
              "device(type='cpu')"
            ]
          },
          "metadata": {},
          "execution_count": 79
        }
      ]
    },
    {
      "cell_type": "code",
      "source": [
        "# Create an instance of model_1\n",
        "torch.manual_seed(42)\n",
        "torch.cuda.manual_seed(42)\n",
        "model_1 = FashionMNISTModelV1(input_shape=784,\n",
        "                              hidden_units=10,\n",
        "                              output_shape=len(class_names)).to(device)\n",
        "next(model_1.parameters()).device"
      ],
      "metadata": {
        "colab": {
          "base_uri": "https://localhost:8080/"
        },
        "id": "dA639PvPuNX4",
        "outputId": "3aa829d5-2cde-447f-9625-02f08823f0ec"
      },
      "execution_count": null,
      "outputs": [
        {
          "output_type": "execute_result",
          "data": {
            "text/plain": [
              "device(type='cuda', index=0)"
            ]
          },
          "metadata": {},
          "execution_count": 80
        }
      ]
    },
    {
      "cell_type": "code",
      "source": [
        "!nvidia-smi"
      ],
      "metadata": {
        "colab": {
          "base_uri": "https://localhost:8080/"
        },
        "id": "VLn-FAAfugJQ",
        "outputId": "399e1d9a-14a9-464c-e729-80c54f79bc9e"
      },
      "execution_count": null,
      "outputs": [
        {
          "output_type": "stream",
          "name": "stdout",
          "text": [
            "Thu Nov 23 15:49:10 2023       \n",
            "+-----------------------------------------------------------------------------+\n",
            "| NVIDIA-SMI 525.105.17   Driver Version: 525.105.17   CUDA Version: 12.0     |\n",
            "|-------------------------------+----------------------+----------------------+\n",
            "| GPU  Name        Persistence-M| Bus-Id        Disp.A | Volatile Uncorr. ECC |\n",
            "| Fan  Temp  Perf  Pwr:Usage/Cap|         Memory-Usage | GPU-Util  Compute M. |\n",
            "|                               |                      |               MIG M. |\n",
            "|===============================+======================+======================|\n",
            "|   0  Tesla T4            Off  | 00000000:00:04.0 Off |                    0 |\n",
            "| N/A   73C    P0    29W /  70W |    879MiB / 15360MiB |      0%      Default |\n",
            "|                               |                      |                  N/A |\n",
            "+-------------------------------+----------------------+----------------------+\n",
            "                                                                               \n",
            "+-----------------------------------------------------------------------------+\n",
            "| Processes:                                                                  |\n",
            "|  GPU   GI   CI        PID   Type   Process name                  GPU Memory |\n",
            "|        ID   ID                                                   Usage      |\n",
            "|=============================================================================|\n",
            "+-----------------------------------------------------------------------------+\n"
          ]
        }
      ]
    },
    {
      "cell_type": "markdown",
      "source": [
        "### 6.1 Setup loss, optimizer, evaluation metrics"
      ],
      "metadata": {
        "id": "QAmbQS5Luu_v"
      }
    },
    {
      "cell_type": "code",
      "source": [
        "from helper_functions import accuracy_fn\n",
        "loss_fn = nn.CrossEntropyLoss()\n",
        "optimizer = torch.optim.SGD(params=model_1.parameters(),\n",
        "                            lr=0.1)"
      ],
      "metadata": {
        "id": "bY3pPYblvEl7"
      },
      "execution_count": null,
      "outputs": []
    },
    {
      "cell_type": "markdown",
      "source": [
        "### 6.2 Functionizing training and evaluation/testing loops\n",
        "\n",
        "Let's create a function for:\n",
        "* training loop - `train_step()`\n",
        "* testing loop - `test_step()`"
      ],
      "metadata": {
        "id": "tlsAW7KUvVT4"
      }
    },
    {
      "cell_type": "code",
      "source": [
        "def train_step(model: torch.nn.Module,\n",
        "               data_loader: torch.utils.data.DataLoader,\n",
        "               loss_fn: torch.nn.Module,\n",
        "               optimizer: torch.optim.Optimizer,\n",
        "               accuracy_fn,\n",
        "               device: torch.device = device):\n",
        "  \"\"\"Performs a training step with model trying to learn on data_loader\"\"\"\n",
        "  train_loss, train_acc = 0,0\n",
        "  # put model into training mode:\n",
        "  model.train()\n",
        "  # Add a loop to loop through the training batches\n",
        "  for batch, (X,y) in enumerate(data_loader):\n",
        "\n",
        "    # Put data on target device:\n",
        "    X, y = X.to(device), y.to(device)\n",
        "\n",
        "    # 1. Forward pass outputs logits\n",
        "    y_pred=model(X)\n",
        "\n",
        "    # 2. Calculate loss (per batch):\n",
        "    loss = loss_fn(y_pred, y)\n",
        "    train_loss += loss # accumulate training loss\n",
        "    train_acc +=  accuracy_fn(y_true=y,\n",
        "                              y_pred=y_pred.argmax(dim=1))\n",
        "\n",
        "    # 3. Optimizer zero grad\n",
        "    optimizer.zero_grad()\n",
        "\n",
        "    # 4. Loss backward\n",
        "    loss.backward()\n",
        "\n",
        "    # 5. Optimizer step:\n",
        "    optimizer.step()\n",
        "    '''The optimizer will optimize our model's parameters once per batch\n",
        "    rather than once per epoch'''\n",
        "\n",
        "    # print out whats happening:\n",
        "    if batch%400 == 0:\n",
        "       print(f'Looked at {batch * len(X)} / {len(data_loader.dataset)} samples')\n",
        "\n",
        "  # Divide total train loss and acc by length of train dataloader:\n",
        "  train_loss /= len(data_loader)\n",
        "  train_acc /= len(data_loader)\n",
        "  print(f'Train loss: {train_loss: .5f} | Train acc: {train_acc: .2f}%')\n"
      ],
      "metadata": {
        "id": "uFe5WzJtvqBd"
      },
      "execution_count": null,
      "outputs": []
    },
    {
      "cell_type": "code",
      "source": [
        "def test_step(model: torch.nn.Module,\n",
        "              data_loader: torch.utils.data.DataLoader,\n",
        "              loss_fn: torch.nn.Module,\n",
        "              accuracy_fn,\n",
        "              device: torch.device = device):\n",
        "  \"\"\"Performs a testing loop step on model going over data_loader\"\"\"\n",
        "  test_loss, test_acc = 0,0\n",
        "  # Put the model in eval mode\n",
        "  model.eval()\n",
        "  model.to(device)\n",
        "  # Turn on context manager with inference mode:\n",
        "  with torch.inference_mode():\n",
        "    for X, y in data_loader:\n",
        "      # Send data to the target device:\n",
        "      X, y = X.to(device), y.to(device)\n",
        "\n",
        "      # 1. Forward pass outputs logits:\n",
        "      test_pred = model(X)\n",
        "\n",
        "      # 2. Calculate the loss/acc\n",
        "      test_loss += loss_fn(test_pred, y)\n",
        "      test_acc += accuracy_fn(y_true=y,\n",
        "                           y_pred=test_pred.argmax(dim=1))\n",
        "\n",
        "    # Adjust metrics and print out\n",
        "    test_loss /= len(data_loader)\n",
        "    test_acc /= len(data_loader)\n",
        "    print(f\"Test loss: {test_loss: .5f} | Test acc: {test_acc:.2f}% \\n\")\n"
      ],
      "metadata": {
        "id": "W93LpnNcyWWC"
      },
      "execution_count": null,
      "outputs": []
    },
    {
      "cell_type": "code",
      "source": [
        "torch.manual_seed(42)\n",
        "\n",
        "# Measure time\n",
        "from timeit import default_timer as timer\n",
        "train_time_start_on_gpu = timer()\n",
        "\n",
        "# Set epochs\n",
        "epochs = 3\n",
        "\n",
        "# Create a optimization and evaluation loop using train_step and test_step\n",
        "for epoch in tqdm(range(epochs)):\n",
        "  print(f\"Epoch: {epoch}\\n------\")\n",
        "  train_step(model=model_1,\n",
        "             data_loader=train_dataloader,\n",
        "             loss_fn=loss_fn,\n",
        "             optimizer=optimizer,\n",
        "             accuracy_fn=accuracy_fn,\n",
        "             device=device)\n",
        "  test_step(model=model_1,\n",
        "            data_loader=test_dataloader,\n",
        "            loss_fn=loss_fn,\n",
        "            accuracy_fn=accuracy_fn,\n",
        "            device=device)\n",
        "\n",
        "train_time_end_on_gpu = timer()\n",
        "total_train_time_model_1 = print_train_time(start=train_time_start_on_gpu,\n",
        "                                            end=train_time_end_on_gpu,\n",
        "                                            device=device)"
      ],
      "metadata": {
        "colab": {
          "base_uri": "https://localhost:8080/",
          "height": 621,
          "referenced_widgets": [
            "41c1d0561fd34b1daf9a56da840fc410",
            "c0416658c28f41648bbb434816a9ba4f",
            "156cc80cfe1946d38a72b4c9b7183131",
            "7e70c636e569499db47f8e9edd2dca9e",
            "12fadfe377d946728c5cb527f64ee1a3",
            "46b5a4be3f3d45f79a1ac05538a2f6cf",
            "6ee0920a9e1b4d459d9e44decef34324",
            "455cde330f5c4894af497da17d2d9309",
            "f046319b9c6c4e61bb2e0a6795f637cd",
            "7a57ce54e51c41cfadeda41fae9ac801",
            "63c0477efc9145e496eba70a1449ec3d"
          ]
        },
        "id": "nQBDKdFsztLN",
        "outputId": "144f4f6b-d874-497a-b643-5f07404abbbe"
      },
      "execution_count": null,
      "outputs": [
        {
          "output_type": "display_data",
          "data": {
            "text/plain": [
              "  0%|          | 0/3 [00:00<?, ?it/s]"
            ],
            "application/vnd.jupyter.widget-view+json": {
              "version_major": 2,
              "version_minor": 0,
              "model_id": "41c1d0561fd34b1daf9a56da840fc410"
            }
          },
          "metadata": {}
        },
        {
          "output_type": "stream",
          "name": "stdout",
          "text": [
            "Epoch: 0\n",
            "------\n",
            "Looked at 0 / 60000 samples\n",
            "Looked at 12800 / 60000 samples\n",
            "Looked at 25600 / 60000 samples\n",
            "Looked at 38400 / 60000 samples\n",
            "Looked at 51200 / 60000 samples\n",
            "Train loss:  1.09199 | Train acc:  61.34%\n",
            "Test loss:  0.95636 | Test acc: 65.00% \n",
            "\n",
            "Epoch: 1\n",
            "------\n",
            "Looked at 0 / 60000 samples\n",
            "Looked at 12800 / 60000 samples\n",
            "Looked at 25600 / 60000 samples\n",
            "Looked at 38400 / 60000 samples\n",
            "Looked at 51200 / 60000 samples\n",
            "Train loss:  0.78101 | Train acc:  71.93%\n",
            "Test loss:  0.72227 | Test acc: 73.91% \n",
            "\n",
            "Epoch: 2\n",
            "------\n",
            "Looked at 0 / 60000 samples\n",
            "Looked at 12800 / 60000 samples\n",
            "Looked at 25600 / 60000 samples\n",
            "Looked at 38400 / 60000 samples\n",
            "Looked at 51200 / 60000 samples\n",
            "Train loss:  0.67027 | Train acc:  75.94%\n",
            "Test loss:  0.68500 | Test acc: 75.02% \n",
            "\n",
            "Train time on cuda: 30.290 seconds\n"
          ]
        }
      ]
    },
    {
      "cell_type": "code",
      "source": [
        "torch.manual_seed(42)\n",
        "def eval_model(model: torch.nn.Module,\n",
        "               data_loader: torch.utils.data.DataLoader,\n",
        "               loss_fn: torch.nn.Module,\n",
        "               accuracy_fn,\n",
        "               device=device):\n",
        "  \"\"\"Returns a dictionary containing the results of model predicting on data_loader\"\"\"\n",
        "  loss, acc = 0,0\n",
        "  model.eval()\n",
        "  model.to(device)\n",
        "  with torch.inference_mode():\n",
        "    for X,y in tqdm(data_loader):\n",
        "      # Make our data device agnostic:\n",
        "      X, y = X.to(device), y.to(device)\n",
        "      # Make predictions\n",
        "      y_pred = model(X)\n",
        "\n",
        "      # Accumulate the loss and acc values per batch\n",
        "      loss += loss_fn(y_pred, y)\n",
        "      acc += accuracy_fn(y_true=y,\n",
        "                         y_pred=y_pred.argmax(dim=1))\n",
        "\n",
        "    # Scale the loss and acc to find the average loss and acc per batch\n",
        "    loss /= len(data_loader)\n",
        "    acc /= len(data_loader)\n",
        "\n",
        "  return {'model_name': model.__class__.__name__, # only works when model was created with a class\n",
        "          'model_loss': loss.item(),\n",
        "          'model_acc': acc}"
      ],
      "metadata": {
        "id": "FXXg4y103owP"
      },
      "execution_count": null,
      "outputs": []
    },
    {
      "cell_type": "markdown",
      "source": [
        ">** Note: Sometimes, depending on your data/hardware you might find that your model trains faster on CPU than GPU\n",
        "\n",
        "> Why is this?\n",
        "\n",
        "> 1. It could be that the overhead for copying data/model to and from the GPU outweighs the compute benefits offered by the GPU\n",
        "> 2. The hardware you're using has a better CPU in terms compute capability of GPU"
      ],
      "metadata": {
        "id": "_RGpoCrV1FPk"
      }
    },
    {
      "cell_type": "code",
      "source": [
        "# Get model_1 results dictionary\n",
        "model_1_results = eval_model(model=model_1,\n",
        "                             data_loader=test_dataloader,\n",
        "                             loss_fn=loss_fn,\n",
        "                             accuracy_fn=accuracy_fn,\n",
        "                             device = device)\n",
        "model_1_results"
      ],
      "metadata": {
        "colab": {
          "base_uri": "https://localhost:8080/",
          "height": 104,
          "referenced_widgets": [
            "f5c60cb2f11645968edf6557b1f5d690",
            "56e4e433ec3b413b9402881272ba0bb9",
            "4052efabe9274deaa318acea4142a601",
            "6a6544093bec4e50ac8fc4cac183c0f9",
            "4d0bb3df84154561b6f630c12b972820",
            "334cb0ace7ee4fc29ba4721f14d7cb86",
            "4a6f9efe3803488aa1da7a28a21bb997",
            "1880f237b0d54310aa602cbdd9318fe5",
            "1ba5c5bec6514969ac14cf5b0cc06426",
            "2ca6aead6cde437aac7b74cbea78ca03",
            "346e49f8bd69459a9d52b83a945408d9"
          ]
        },
        "id": "Ex5NCjV22pAU",
        "outputId": "7b4785f3-f559-493d-d85c-29d65394aced"
      },
      "execution_count": null,
      "outputs": [
        {
          "output_type": "display_data",
          "data": {
            "text/plain": [
              "  0%|          | 0/313 [00:00<?, ?it/s]"
            ],
            "application/vnd.jupyter.widget-view+json": {
              "version_major": 2,
              "version_minor": 0,
              "model_id": "f5c60cb2f11645968edf6557b1f5d690"
            }
          },
          "metadata": {}
        },
        {
          "output_type": "execute_result",
          "data": {
            "text/plain": [
              "{'model_name': 'FashionMNISTModelV1',\n",
              " 'model_loss': 0.6850008964538574,\n",
              " 'model_acc': 75.01996805111821}"
            ]
          },
          "metadata": {},
          "execution_count": 89
        }
      ]
    },
    {
      "cell_type": "markdown",
      "source": [
        "#### Our second model didn't beat our first model's baseline"
      ],
      "metadata": {
        "id": "nxusjdgn4HU6"
      }
    },
    {
      "cell_type": "markdown",
      "source": [
        "## Model 2: Building a Convolutional Neural Network (CNN)\n",
        "\n",
        "CNNs are also known as ConvNets.\n",
        "CNNs are known for their capabilities to find patterns in visual data.\n",
        "\n",
        "![image.png](data:image/png;base64,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)"
      ],
      "metadata": {
        "id": "WiguOm-v9kvF"
      }
    },
    {
      "cell_type": "markdown",
      "source": [
        "![image.png](data:image/png;base64,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)"
      ],
      "metadata": {
        "id": "BIq9-3Xi_JOh"
      }
    },
    {
      "cell_type": "markdown",
      "source": [
        "### Find out what's happening in a CNN:\n",
        "\n",
        "https://poloclub.github.io/cnn-explainer/"
      ],
      "metadata": {
        "id": "ocU_1aFl_O5F"
      }
    },
    {
      "cell_type": "code",
      "source": [
        "# Create a convolutional neural network:\n",
        "class FashionMNISTModelV2(nn.Module):\n",
        "  '''\n",
        "  Model architecture that replicates the TinyVGG\n",
        "  model from CNN explainer website.\n",
        "  '''\n",
        "  def __init__(self,\n",
        "               input_shape: int,\n",
        "               hidden_units: int,\n",
        "               output_shape: int):\n",
        "    super().__init__()\n",
        "    self.conv_block_1 = nn.Sequential(\n",
        "        # Create a conv layer\n",
        "        nn.Conv2d(in_channels = input_shape,\n",
        "                  out_channels=hidden_units,\n",
        "                  kernel_size = (3,3),\n",
        "                  stride = 1,\n",
        "                  padding = 1), # values we can set ourselves in our NNs are called hyperparameters\n",
        "        nn.ReLU(),\n",
        "        nn.Conv2d(in_channels = hidden_units,\n",
        "                  out_channels = hidden_units,\n",
        "                  kernel_size = (3,3),\n",
        "                  stride = 1,\n",
        "                  padding = 1),\n",
        "        nn.ReLU(),\n",
        "        nn.MaxPool2d(kernel_size=(2,2))\n",
        "        )\n",
        "    self.conv_block_2 = nn.Sequential(\n",
        "        nn.Conv2d(in_channels = hidden_units,\n",
        "                  out_channels = hidden_units,\n",
        "                  kernel_size = (3,3),\n",
        "                  stride = 1,\n",
        "                  padding = 1),\n",
        "        nn.ReLU(),\n",
        "        nn.Conv2d(in_channels = hidden_units,\n",
        "                  out_channels = hidden_units,\n",
        "                  kernel_size = (3,3),\n",
        "                  stride = 1,\n",
        "                  padding = 1),\n",
        "        nn.ReLU(),\n",
        "        nn.MaxPool2d(kernel_size = (2,2)))\n",
        "    self.classifier = nn.Sequential(\n",
        "        nn.Flatten(),\n",
        "        nn.Linear(in_features=hidden_units*0,\n",
        "                  out_features=output_shape)\n",
        "    )\n",
        "\n",
        "    def forward(self, x: torch.Tensor) -> torch.Tensor:\n",
        "      x = self.conv_block_1(x)\n",
        "      print(x.shape)\n",
        "      x = self.conv_block_2(x)\n",
        "      print(x.shape)\n",
        "      x = self.classifier(x)\n",
        "      return x"
      ],
      "metadata": {
        "id": "PZzmosA__ua5"
      },
      "execution_count": 91,
      "outputs": []
    },
    {
      "cell_type": "code",
      "source": [
        "torch.manual_seed(42)\n",
        "model_2 = FashionMNISTModelV2(input_shape=1,\n",
        "                              hidden_units=10,\n",
        "                              output_shape=len(class_names)).to(device)"
      ],
      "metadata": {
        "colab": {
          "base_uri": "https://localhost:8080/"
        },
        "id": "5pLS7ZbQFzos",
        "outputId": "0c37f948-faae-49ff-a6a7-13fc0de72401"
      },
      "execution_count": 92,
      "outputs": [
        {
          "output_type": "stream",
          "name": "stderr",
          "text": [
            "/usr/local/lib/python3.10/dist-packages/torch/nn/init.py:412: UserWarning: Initializing zero-element tensors is a no-op\n",
            "  warnings.warn(\"Initializing zero-element tensors is a no-op\")\n"
          ]
        }
      ]
    },
    {
      "cell_type": "code",
      "source": [],
      "metadata": {
        "id": "OLwuX6cnGMJH"
      },
      "execution_count": null,
      "outputs": []
    }
  ]
}