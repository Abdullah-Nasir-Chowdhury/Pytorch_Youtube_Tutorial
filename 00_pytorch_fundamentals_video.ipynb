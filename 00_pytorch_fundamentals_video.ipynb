{
  "cells": [
    {
      "cell_type": "code",
      "execution_count": 1,
      "metadata": {
        "colab": {
          "base_uri": "https://localhost:8080/"
        },
        "id": "hAeDa9vidWtL",
        "outputId": "bb9112f1-d8be-4598-ad3e-74f42bfd27ed"
      },
      "outputs": [
        {
          "name": "stdout",
          "output_type": "stream",
          "text": [
            "/bin/bash: -c: line 1: syntax error near unexpected token `'Hello World''\n",
            "/bin/bash: -c: line 1: ` print('Hello World')'\n"
          ]
        }
      ],
      "source": [
        "! print('Hello World')"
      ]
    },
    {
      "cell_type": "code",
      "execution_count": 2,
      "metadata": {
        "colab": {
          "base_uri": "https://localhost:8080/"
        },
        "id": "iz9y-zTfd3c-",
        "outputId": "89abc1ac-8751-4959-d317-59a778d4afd9"
      },
      "outputs": [
        {
          "name": "stdout",
          "output_type": "stream",
          "text": [
            "/bin/bash: line 1: nvidia-smi: command not found\n"
          ]
        }
      ],
      "source": [
        "! nvidia-smi"
      ]
    },
    {
      "cell_type": "markdown",
      "metadata": {
        "id": "X6kxZtuTeGbM"
      },
      "source": [
        "## 00. PyTorch Fundamentals:\n",
        "\n",
        "Resource notebook: notebook: https://www.learnpytorch.io/00_pytorch_fundamentals/"
      ]
    },
    {
      "cell_type": "code",
      "execution_count": 3,
      "metadata": {
        "colab": {
          "base_uri": "https://localhost:8080/"
        },
        "id": "A_nNqNOzd9e8",
        "outputId": "b1d40d76-5420-49f9-c41e-50e0d5b6e849"
      },
      "outputs": [
        {
          "name": "stdout",
          "output_type": "stream",
          "text": [
            "2.1.0+cu118\n"
          ]
        }
      ],
      "source": [
        "import torch\n",
        "print(torch.__version__)"
      ]
    },
    {
      "cell_type": "code",
      "execution_count": 4,
      "metadata": {
        "id": "C2uFGH1belil"
      },
      "outputs": [],
      "source": [
        "import pandas as pd\n",
        "import numpy as np\n",
        "import matplotlib.pyplot as plt"
      ]
    },
    {
      "cell_type": "markdown",
      "metadata": {
        "id": "PXuh8zMqfnq_"
      },
      "source": [
        "## Introduction to Tensors\n",
        "\n",
        "### Creating Tensors\n",
        "\n",
        "PyTorch tensors are created using torch.tensor: https://pytorch.org/docs/stable/tensors.html"
      ]
    },
    {
      "cell_type": "code",
      "execution_count": 5,
      "metadata": {
        "colab": {
          "base_uri": "https://localhost:8080/"
        },
        "id": "WJ-30-3vfxP6",
        "outputId": "35b4c718-5267-4f56-e4ca-3b5763550b40"
      },
      "outputs": [
        {
          "data": {
            "text/plain": [
              "tensor(7)"
            ]
          },
          "execution_count": 5,
          "metadata": {},
          "output_type": "execute_result"
        }
      ],
      "source": [
        "# scalar\n",
        "# Different kinds of tensors, this block is for scalar tensors\n",
        "\n",
        "scalar = torch.tensor(7)\n",
        "scalar"
      ]
    },
    {
      "cell_type": "code",
      "execution_count": 6,
      "metadata": {
        "colab": {
          "base_uri": "https://localhost:8080/"
        },
        "id": "O1fcRrQegCXO",
        "outputId": "882f7039-8844-424d-ff8d-c1d079520473"
      },
      "outputs": [
        {
          "data": {
            "text/plain": [
              "0"
            ]
          },
          "execution_count": 6,
          "metadata": {},
          "output_type": "execute_result"
        }
      ],
      "source": [
        "scalar.ndim"
      ]
    },
    {
      "cell_type": "code",
      "execution_count": 8,
      "metadata": {
        "colab": {
          "base_uri": "https://localhost:8080/"
        },
        "id": "9jjtMLhwgoT1",
        "outputId": "1418f27a-c694-457b-92cc-b20335c88ba1"
      },
      "outputs": [
        {
          "data": {
            "text/plain": [
              "7"
            ]
          },
          "execution_count": 8,
          "metadata": {},
          "output_type": "execute_result"
        }
      ],
      "source": [
        "# Get tensor back as Python int\n",
        "scalar.item()"
      ]
    },
    {
      "cell_type": "code",
      "execution_count": 9,
      "metadata": {
        "colab": {
          "base_uri": "https://localhost:8080/"
        },
        "id": "aYMzu5A4gwWl",
        "outputId": "8429ee9f-37bc-42b2-c7b3-96da0c7c0572"
      },
      "outputs": [
        {
          "data": {
            "text/plain": [
              "tensor([7, 7])"
            ]
          },
          "execution_count": 9,
          "metadata": {},
          "output_type": "execute_result"
        }
      ],
      "source": [
        "# Vector\n",
        "vector = torch.tensor([7, 7])\n",
        "vector"
      ]
    },
    {
      "cell_type": "code",
      "execution_count": 10,
      "metadata": {
        "id": "KI81tlIhhMhy"
      },
      "outputs": [],
      "source": [
        "# scalar vs. vector vs. matrix vs. tensor"
      ]
    },
    {
      "cell_type": "code",
      "execution_count": 11,
      "metadata": {
        "colab": {
          "base_uri": "https://localhost:8080/"
        },
        "id": "jDkcoxXihYzy",
        "outputId": "e73a34f6-a15c-4eeb-e2d9-fc550c5e7a39"
      },
      "outputs": [
        {
          "data": {
            "text/plain": [
              "1"
            ]
          },
          "execution_count": 11,
          "metadata": {},
          "output_type": "execute_result"
        }
      ],
      "source": [
        "vector.ndim"
      ]
    },
    {
      "cell_type": "code",
      "execution_count": 12,
      "metadata": {
        "colab": {
          "base_uri": "https://localhost:8080/"
        },
        "id": "-wpWRfNGhZ4y",
        "outputId": "6432a5fb-63ba-481a-c712-5ad84cdae2c9"
      },
      "outputs": [
        {
          "data": {
            "text/plain": [
              "torch.Size([2])"
            ]
          },
          "execution_count": 12,
          "metadata": {},
          "output_type": "execute_result"
        }
      ],
      "source": [
        "vector.shape"
      ]
    },
    {
      "cell_type": "code",
      "execution_count": 13,
      "metadata": {
        "colab": {
          "base_uri": "https://localhost:8080/"
        },
        "id": "qoHbagZ_hevC",
        "outputId": "2729a220-9286-46dd-98f2-d6f3e5df5fe9"
      },
      "outputs": [
        {
          "data": {
            "text/plain": [
              "tensor([[ 7,  8],\n",
              "        [ 9, 10]])"
            ]
          },
          "execution_count": 13,
          "metadata": {},
          "output_type": "execute_result"
        }
      ],
      "source": [
        "# MATRIX:\n",
        "MATRIX = torch.tensor([[7,8],\n",
        "                      [9,10]])\n",
        "MATRIX"
      ]
    },
    {
      "cell_type": "code",
      "execution_count": 14,
      "metadata": {
        "colab": {
          "base_uri": "https://localhost:8080/"
        },
        "id": "a_-70gmXhylq",
        "outputId": "66e79fde-4935-441d-fb3a-7208765f33c0"
      },
      "outputs": [
        {
          "data": {
            "text/plain": [
              "2"
            ]
          },
          "execution_count": 14,
          "metadata": {},
          "output_type": "execute_result"
        }
      ],
      "source": [
        "MATRIX.ndim"
      ]
    },
    {
      "cell_type": "code",
      "execution_count": 15,
      "metadata": {
        "colab": {
          "base_uri": "https://localhost:8080/"
        },
        "id": "TIBMGe7Xh1fi",
        "outputId": "c7d23543-82a2-44a7-f682-da5bd99773f5"
      },
      "outputs": [
        {
          "data": {
            "text/plain": [
              "torch.Size([2, 2])"
            ]
          },
          "execution_count": 15,
          "metadata": {},
          "output_type": "execute_result"
        }
      ],
      "source": [
        "MATRIX.shape"
      ]
    },
    {
      "cell_type": "code",
      "execution_count": 16,
      "metadata": {
        "colab": {
          "base_uri": "https://localhost:8080/"
        },
        "id": "8tvDlyzFh3Pq",
        "outputId": "10a98f84-ac48-41f4-c9ab-5d8be21ea673"
      },
      "outputs": [
        {
          "data": {
            "text/plain": [
              "tensor([7, 8])"
            ]
          },
          "execution_count": 16,
          "metadata": {},
          "output_type": "execute_result"
        }
      ],
      "source": [
        "MATRIX[0]"
      ]
    },
    {
      "cell_type": "code",
      "execution_count": 17,
      "metadata": {
        "colab": {
          "base_uri": "https://localhost:8080/"
        },
        "id": "kkOvlDEth47b",
        "outputId": "30c672ef-6ba1-4f92-f9de-3c7ff978054a"
      },
      "outputs": [
        {
          "data": {
            "text/plain": [
              "tensor([ 9, 10])"
            ]
          },
          "execution_count": 17,
          "metadata": {},
          "output_type": "execute_result"
        }
      ],
      "source": [
        "MATRIX[1]"
      ]
    },
    {
      "cell_type": "code",
      "execution_count": 18,
      "metadata": {
        "colab": {
          "base_uri": "https://localhost:8080/"
        },
        "id": "nkmFmVC9h6IF",
        "outputId": "3f174a9d-16f1-4311-e64d-37b5cd52f115"
      },
      "outputs": [
        {
          "data": {
            "text/plain": [
              "tensor([[[1, 2, 3],\n",
              "         [3, 5, 7],\n",
              "         [1, 2, 4]]])"
            ]
          },
          "execution_count": 18,
          "metadata": {},
          "output_type": "execute_result"
        }
      ],
      "source": [
        "# TENSOR\n",
        "TENSOR = torch.tensor([[[1, 2, 3],\n",
        "                        [3, 5, 7],\n",
        "                        [1, 2, 4]]])\n",
        "TENSOR"
      ]
    },
    {
      "cell_type": "code",
      "execution_count": 19,
      "metadata": {
        "colab": {
          "base_uri": "https://localhost:8080/"
        },
        "id": "8rT15tWhiVQ3",
        "outputId": "9f5933e1-b951-4a15-a417-1eec27b2ec30"
      },
      "outputs": [
        {
          "data": {
            "text/plain": [
              "3"
            ]
          },
          "execution_count": 19,
          "metadata": {},
          "output_type": "execute_result"
        }
      ],
      "source": [
        "TENSOR.ndim"
      ]
    },
    {
      "cell_type": "code",
      "execution_count": 20,
      "metadata": {
        "colab": {
          "base_uri": "https://localhost:8080/"
        },
        "id": "g3btDVUFiaYA",
        "outputId": "6bcbd950-57e9-4fbd-bd9a-a353e8f462e8"
      },
      "outputs": [
        {
          "data": {
            "text/plain": [
              "torch.Size([1, 3, 3])"
            ]
          },
          "execution_count": 20,
          "metadata": {},
          "output_type": "execute_result"
        }
      ],
      "source": [
        "TENSOR.shape"
      ]
    },
    {
      "cell_type": "code",
      "execution_count": 21,
      "metadata": {
        "colab": {
          "base_uri": "https://localhost:8080/"
        },
        "id": "ZJNH4Zdiibxn",
        "outputId": "9d754321-2125-4d0e-c95d-1abf6e4bd864"
      },
      "outputs": [
        {
          "data": {
            "text/plain": [
              "tensor([[1, 2, 3],\n",
              "        [3, 5, 7],\n",
              "        [1, 2, 4]])"
            ]
          },
          "execution_count": 21,
          "metadata": {},
          "output_type": "execute_result"
        }
      ],
      "source": [
        "TENSOR[0]"
      ]
    },
    {
      "cell_type": "code",
      "execution_count": 22,
      "metadata": {
        "id": "3JrA9x6rilGY"
      },
      "outputs": [],
      "source": [
        "# it means a 1 3x3 tensor"
      ]
    },
    {
      "cell_type": "markdown",
      "metadata": {
        "id": "aFRiTNkvisWY"
      },
      "source": [
        "### Random Tensors\n",
        "\n",
        "Why random tensors?\n",
        "\n",
        "Random tensors are important because the way many neural networks learn is that they start with tensors full of random numbers and then adjust those random numbers to better represent the data.\n",
        "\n",
        "`Start with random numbers -> look at data -> update random numbers -> look at data -> update random numbers`\n",
        "\n",
        "Torch random tensors - https://pytorch.org/docs/stable/generate/torch.rand.html"
      ]
    },
    {
      "cell_type": "code",
      "execution_count": 25,
      "metadata": {
        "colab": {
          "base_uri": "https://localhost:8080/"
        },
        "id": "LDprZ3mXjqXf",
        "outputId": "46516700-b23e-4e04-f2ea-88a495b96381"
      },
      "outputs": [
        {
          "data": {
            "text/plain": [
              "tensor([[0.6267, 0.7311, 0.9853, 0.6138],\n",
              "        [0.6424, 0.2056, 0.3747, 0.0427],\n",
              "        [0.8297, 0.6133, 0.7820, 0.6925]])"
            ]
          },
          "execution_count": 25,
          "metadata": {},
          "output_type": "execute_result"
        }
      ],
      "source": [
        "# Create a random tensor with pytorch of size/shape (3,4)\n",
        "random_tensor = torch.rand(3, 4)\n",
        "random_tensor"
      ]
    },
    {
      "cell_type": "code",
      "execution_count": 26,
      "metadata": {
        "colab": {
          "base_uri": "https://localhost:8080/"
        },
        "id": "qfL1bxtWkaKL",
        "outputId": "38bdc1a9-1cbd-44cc-dd87-75e0e7dba2c2"
      },
      "outputs": [
        {
          "data": {
            "text/plain": [
              "2"
            ]
          },
          "execution_count": 26,
          "metadata": {},
          "output_type": "execute_result"
        }
      ],
      "source": [
        "random_tensor.ndim"
      ]
    },
    {
      "cell_type": "code",
      "execution_count": 28,
      "metadata": {
        "colab": {
          "base_uri": "https://localhost:8080/"
        },
        "id": "XCt8Quqjkwya",
        "outputId": "dfb862b2-dea1-4c51-c924-d1a3a873b3f6"
      },
      "outputs": [
        {
          "data": {
            "text/plain": [
              "tensor([[[0.7362, 0.2688, 0.7484, 0.6790, 0.7604, 0.4195, 0.6988, 0.2733,\n",
              "          0.2209, 0.3943],\n",
              "         [0.8109, 0.2106, 0.2013, 0.1648, 0.8531, 0.4919, 0.5686, 0.9730,\n",
              "          0.2761, 0.3545],\n",
              "         [0.3060, 0.2407, 0.0552, 0.2699, 0.3406, 0.5251, 0.2026, 0.4810,\n",
              "          0.7957, 0.0070],\n",
              "         [0.4426, 0.6533, 0.8882, 0.3103, 0.1705, 0.3276, 0.3350, 0.3256,\n",
              "          0.2503, 0.2187],\n",
              "         [0.3031, 0.4332, 0.2618, 0.1295, 0.9478, 0.1529, 0.0982, 0.8199,\n",
              "          0.2865, 0.9268],\n",
              "         [0.7869, 0.9153, 0.1118, 0.6998, 0.6312, 0.2670, 0.9998, 0.5567,\n",
              "          0.4602, 0.5263],\n",
              "         [0.9058, 0.1272, 0.1749, 0.0535, 0.4403, 0.0077, 0.1128, 0.5998,\n",
              "          0.3985, 0.0710],\n",
              "         [0.6270, 0.5145, 0.5791, 0.1377, 0.4147, 0.9587, 0.1294, 0.3060,\n",
              "          0.9178, 0.1348],\n",
              "         [0.3493, 0.9888, 0.7522, 0.4302, 0.3416, 0.5675, 0.8619, 0.9060,\n",
              "          0.3048, 0.8963],\n",
              "         [0.4231, 0.5617, 0.7374, 0.8552, 0.6077, 0.5681, 0.8381, 0.8095,\n",
              "          0.0490, 0.9778]]])"
            ]
          },
          "execution_count": 28,
          "metadata": {},
          "output_type": "execute_result"
        }
      ],
      "source": [
        "random_tensor = torch.rand(1, 10, 10)\n",
        "random_tensor"
      ]
    },
    {
      "cell_type": "code",
      "execution_count": 29,
      "metadata": {
        "colab": {
          "base_uri": "https://localhost:8080/"
        },
        "id": "imdM__oDk0wy",
        "outputId": "e13b80bf-7fc9-4f32-9386-f2757977256a"
      },
      "outputs": [
        {
          "data": {
            "text/plain": [
              "3"
            ]
          },
          "execution_count": 29,
          "metadata": {},
          "output_type": "execute_result"
        }
      ],
      "source": [
        "random_tensor.ndim"
      ]
    },
    {
      "cell_type": "code",
      "execution_count": 30,
      "metadata": {
        "id": "aGhGdytwk4yZ"
      },
      "outputs": [],
      "source": [
        "random_tensor = torch.rand(3,3,3)"
      ]
    },
    {
      "cell_type": "code",
      "execution_count": 31,
      "metadata": {
        "colab": {
          "base_uri": "https://localhost:8080/"
        },
        "id": "KhzDTQKvlAs6",
        "outputId": "8df439cd-a3ac-4422-ad5f-c11bec0834ea"
      },
      "outputs": [
        {
          "data": {
            "text/plain": [
              "3"
            ]
          },
          "execution_count": 31,
          "metadata": {},
          "output_type": "execute_result"
        }
      ],
      "source": [
        "random_tensor.ndim"
      ]
    },
    {
      "cell_type": "code",
      "execution_count": 32,
      "metadata": {
        "colab": {
          "base_uri": "https://localhost:8080/"
        },
        "id": "9yDnhQX4lC76",
        "outputId": "54a9a1db-0468-4e4c-b66b-0a5dcf6ca22c"
      },
      "outputs": [
        {
          "data": {
            "text/plain": [
              "tensor([[[0.2878, 0.7918, 0.8073],\n",
              "         [0.5083, 0.5862, 0.4983],\n",
              "         [0.7350, 0.0770, 0.4809]],\n",
              "\n",
              "        [[0.1428, 0.8252, 0.5381],\n",
              "         [0.8900, 0.6806, 0.7586],\n",
              "         [0.4242, 0.6000, 0.3969]],\n",
              "\n",
              "        [[0.2718, 0.2592, 0.5087],\n",
              "         [0.4003, 0.0395, 0.3156],\n",
              "         [0.8039, 0.5665, 0.9678]]])"
            ]
          },
          "execution_count": 32,
          "metadata": {},
          "output_type": "execute_result"
        }
      ],
      "source": [
        "random_tensor"
      ]
    },
    {
      "cell_type": "code",
      "execution_count": 33,
      "metadata": {
        "colab": {
          "base_uri": "https://localhost:8080/"
        },
        "id": "w78_JihAlEya",
        "outputId": "91ec4a47-7746-492d-8612-a06eb0a56557"
      },
      "outputs": [
        {
          "data": {
            "text/plain": [
              "tensor([[[0.0917, 0.3310, 0.9589],\n",
              "         [0.0456, 0.1578, 0.2382],\n",
              "         [0.7578, 0.0199, 0.8462],\n",
              "         ...,\n",
              "         [0.4705, 0.5437, 0.7697],\n",
              "         [0.0531, 0.1822, 0.4015],\n",
              "         [0.4390, 0.7820, 0.5891]],\n",
              "\n",
              "        [[0.1661, 0.1998, 0.8496],\n",
              "         [0.2667, 0.5474, 0.3130],\n",
              "         [0.1595, 0.4072, 0.5206],\n",
              "         ...,\n",
              "         [0.8617, 0.1922, 0.4195],\n",
              "         [0.1632, 0.9708, 0.1098],\n",
              "         [0.4308, 0.2788, 0.2860]],\n",
              "\n",
              "        [[0.5219, 0.6264, 0.4122],\n",
              "         [0.9285, 0.2192, 0.6139],\n",
              "         [0.3662, 0.4054, 0.4576],\n",
              "         ...,\n",
              "         [0.3683, 0.6947, 0.4644],\n",
              "         [0.9600, 0.6753, 0.2587],\n",
              "         [0.6874, 0.0471, 0.4854]],\n",
              "\n",
              "        ...,\n",
              "\n",
              "        [[0.1133, 0.1574, 0.3305],\n",
              "         [0.7405, 0.3860, 0.3471],\n",
              "         [0.7244, 0.0282, 0.4214],\n",
              "         ...,\n",
              "         [0.1553, 0.3667, 0.8731],\n",
              "         [0.5703, 0.0435, 0.2023],\n",
              "         [0.3309, 0.9081, 0.0352]],\n",
              "\n",
              "        [[0.0772, 0.7151, 0.1619],\n",
              "         [0.2067, 0.5598, 0.8460],\n",
              "         [0.8275, 0.7207, 0.7698],\n",
              "         ...,\n",
              "         [0.8220, 0.7211, 0.3949],\n",
              "         [0.5046, 0.8279, 0.5684],\n",
              "         [0.2947, 0.5297, 0.8601]],\n",
              "\n",
              "        [[0.1712, 0.3164, 0.8653],\n",
              "         [0.0305, 0.5776, 0.2563],\n",
              "         [0.7333, 0.9763, 0.1147],\n",
              "         ...,\n",
              "         [0.9260, 0.4034, 0.9934],\n",
              "         [0.5025, 0.3976, 0.1723],\n",
              "         [0.7082, 0.8322, 0.6341]]])"
            ]
          },
          "execution_count": 33,
          "metadata": {},
          "output_type": "execute_result"
        }
      ],
      "source": [
        "# Create random tensor with similar shape to an image tensor\n",
        "random_image_size_tensor = torch.rand(size=[224, 224, 3]) # height, width, color channels\n",
        "random_image_size_tensor"
      ]
    },
    {
      "cell_type": "code",
      "execution_count": 34,
      "metadata": {
        "colab": {
          "base_uri": "https://localhost:8080/"
        },
        "id": "hDoLOigPlVQ5",
        "outputId": "93d1dd39-ba98-44d3-fd8d-1dd35a5cd495"
      },
      "outputs": [
        {
          "data": {
            "text/plain": [
              "3"
            ]
          },
          "execution_count": 34,
          "metadata": {},
          "output_type": "execute_result"
        }
      ],
      "source": [
        "random_image_size_tensor.ndim"
      ]
    },
    {
      "cell_type": "code",
      "execution_count": 35,
      "metadata": {
        "colab": {
          "base_uri": "https://localhost:8080/"
        },
        "id": "jWzcoVpxlc1h",
        "outputId": "2248e736-4590-4850-dd5d-a2e972b93720"
      },
      "outputs": [
        {
          "data": {
            "text/plain": [
              "torch.Size([224, 224, 3])"
            ]
          },
          "execution_count": 35,
          "metadata": {},
          "output_type": "execute_result"
        }
      ],
      "source": [
        "random_image_size_tensor.shape"
      ]
    },
    {
      "cell_type": "code",
      "execution_count": 36,
      "metadata": {
        "colab": {
          "base_uri": "https://localhost:8080/"
        },
        "id": "ql5uuvBalgZR",
        "outputId": "09b0b117-dba1-436f-982e-895c3269c275"
      },
      "outputs": [
        {
          "data": {
            "text/plain": [
              "tensor([[0.4420, 0.5464, 0.1319],\n",
              "        [0.5589, 0.0472, 0.9861],\n",
              "        [0.5521, 0.4452, 0.9208]])"
            ]
          },
          "execution_count": 36,
          "metadata": {},
          "output_type": "execute_result"
        }
      ],
      "source": [
        "torch.rand(size=(3,3))"
      ]
    },
    {
      "cell_type": "code",
      "execution_count": 37,
      "metadata": {
        "colab": {
          "base_uri": "https://localhost:8080/"
        },
        "id": "CAEkCgeXmBdg",
        "outputId": "752c5ad6-4d96-48b0-8bc1-7cf06a94db06"
      },
      "outputs": [
        {
          "data": {
            "text/plain": [
              "tensor([[0.0288, 0.2718, 0.0318],\n",
              "        [0.9801, 0.2942, 0.5586],\n",
              "        [0.1712, 0.4995, 0.6925]])"
            ]
          },
          "execution_count": 37,
          "metadata": {},
          "output_type": "execute_result"
        }
      ],
      "source": [
        "torch.rand(3,3)"
      ]
    },
    {
      "cell_type": "markdown",
      "metadata": {
        "id": "dFLvMLfqmDX4"
      },
      "source": [
        "## Zeros and Ones"
      ]
    },
    {
      "cell_type": "code",
      "execution_count": 39,
      "metadata": {
        "colab": {
          "base_uri": "https://localhost:8080/"
        },
        "id": "n56fPkCOmG4z",
        "outputId": "c8ddd1e2-9234-4134-f8e8-d61bc614534c"
      },
      "outputs": [
        {
          "data": {
            "text/plain": [
              "tensor([[0., 0., 0., 0.],\n",
              "        [0., 0., 0., 0.],\n",
              "        [0., 0., 0., 0.]])"
            ]
          },
          "execution_count": 39,
          "metadata": {},
          "output_type": "execute_result"
        }
      ],
      "source": [
        "# Create a tensor of all zeros\n",
        "zeros = torch.zeros(size=(3,4))\n",
        "zeros"
      ]
    },
    {
      "cell_type": "code",
      "execution_count": 41,
      "metadata": {
        "colab": {
          "base_uri": "https://localhost:8080/"
        },
        "id": "3xfcRM0emNvs",
        "outputId": "f9369c0b-89f2-4b05-a0f1-17a92972a8e1"
      },
      "outputs": [
        {
          "data": {
            "text/plain": [
              "tensor([[0., 0., 0., 0.],\n",
              "        [0., 0., 0., 0.],\n",
              "        [0., 0., 0., 0.]])"
            ]
          },
          "execution_count": 41,
          "metadata": {},
          "output_type": "execute_result"
        }
      ],
      "source": [
        "random_tensor = torch.rand(size=(3,4))\n",
        "zeros*random_tensor"
      ]
    },
    {
      "cell_type": "code",
      "execution_count": 42,
      "metadata": {
        "colab": {
          "base_uri": "https://localhost:8080/"
        },
        "id": "oPnnlqNrmSDI",
        "outputId": "56a88acc-7c6d-46d2-af19-02eb272fc22c"
      },
      "outputs": [
        {
          "data": {
            "text/plain": [
              "tensor([[1., 1., 1., 1.],\n",
              "        [1., 1., 1., 1.],\n",
              "        [1., 1., 1., 1.]])"
            ]
          },
          "execution_count": 42,
          "metadata": {},
          "output_type": "execute_result"
        }
      ],
      "source": [
        "# Create a tensor of all ones\n",
        "ones = torch.ones(size=(3,4))\n",
        "ones"
      ]
    },
    {
      "cell_type": "code",
      "execution_count": 43,
      "metadata": {
        "colab": {
          "base_uri": "https://localhost:8080/"
        },
        "id": "lA_WxQ7vmmXu",
        "outputId": "fac9e908-8d1f-4fc4-cd92-d40d262b6303"
      },
      "outputs": [
        {
          "data": {
            "text/plain": [
              "torch.float32"
            ]
          },
          "execution_count": 43,
          "metadata": {},
          "output_type": "execute_result"
        }
      ],
      "source": [
        "ones.dtype"
      ]
    },
    {
      "cell_type": "code",
      "execution_count": 45,
      "metadata": {
        "colab": {
          "base_uri": "https://localhost:8080/"
        },
        "id": "NDjf3WlGmnrf",
        "outputId": "89d138d9-353b-4e08-f65f-b6af571d30c0"
      },
      "outputs": [
        {
          "data": {
            "text/plain": [
              "torch.float32"
            ]
          },
          "execution_count": 45,
          "metadata": {},
          "output_type": "execute_result"
        }
      ],
      "source": [
        "random_tensor.dtype"
      ]
    },
    {
      "cell_type": "code",
      "execution_count": 46,
      "metadata": {
        "id": "D_mHQQjYmp-C"
      },
      "outputs": [],
      "source": [
        "# Default data type is float 32"
      ]
    },
    {
      "cell_type": "markdown",
      "metadata": {
        "id": "n8tMmdZ7mudH"
      },
      "source": [
        "### Creating a range of tensors and tensors-like"
      ]
    },
    {
      "cell_type": "code",
      "execution_count": 47,
      "metadata": {
        "colab": {
          "base_uri": "https://localhost:8080/"
        },
        "id": "FwYu3edjm657",
        "outputId": "094c6e53-7a65-418b-c5b0-40fef1967a1d"
      },
      "outputs": [
        {
          "name": "stderr",
          "output_type": "stream",
          "text": [
            "<ipython-input-47-74fde6f68c60>:2: UserWarning: torch.range is deprecated and will be removed in a future release because its behavior is inconsistent with Python's range builtin. Instead, use torch.arange, which produces values in [start, end).\n",
            "  torch.range(0, 10)\n"
          ]
        },
        {
          "data": {
            "text/plain": [
              "tensor([ 0.,  1.,  2.,  3.,  4.,  5.,  6.,  7.,  8.,  9., 10.])"
            ]
          },
          "execution_count": 47,
          "metadata": {},
          "output_type": "execute_result"
        }
      ],
      "source": [
        "# Use torch.range() and get deprecated message, use torch.arange() to not get deprecated message\n",
        "torch.range(0, 10)"
      ]
    },
    {
      "cell_type": "code",
      "execution_count": 48,
      "metadata": {
        "colab": {
          "base_uri": "https://localhost:8080/",
          "height": 35
        },
        "id": "-PHStvgsm_TW",
        "outputId": "b1ac53a9-6586-4e97-f271-c5bd689854ed"
      },
      "outputs": [
        {
          "data": {
            "application/vnd.google.colaboratory.intrinsic+json": {
              "type": "string"
            },
            "text/plain": [
              "'2.1.0+cu118'"
            ]
          },
          "execution_count": 48,
          "metadata": {},
          "output_type": "execute_result"
        }
      ],
      "source": [
        "torch.__version__"
      ]
    },
    {
      "cell_type": "code",
      "execution_count": 49,
      "metadata": {
        "colab": {
          "base_uri": "https://localhost:8080/"
        },
        "id": "Vj2VFNklnBz2",
        "outputId": "f64e5a66-6b58-412d-db18-368c81e1cae2"
      },
      "outputs": [
        {
          "data": {
            "text/plain": [
              "tensor([0, 1, 2, 3, 4, 5, 6, 7, 8, 9])"
            ]
          },
          "execution_count": 49,
          "metadata": {},
          "output_type": "execute_result"
        }
      ],
      "source": [
        "torch.arange(0,10)"
      ]
    },
    {
      "cell_type": "code",
      "execution_count": 50,
      "metadata": {
        "colab": {
          "base_uri": "https://localhost:8080/"
        },
        "id": "Hpjg6MJinFvu",
        "outputId": "df4f19e5-4d55-43b6-ff5d-4403741195c2"
      },
      "outputs": [
        {
          "data": {
            "text/plain": [
              "tensor([1, 2, 3, 4, 5, 6, 7, 8, 9])"
            ]
          },
          "execution_count": 50,
          "metadata": {},
          "output_type": "execute_result"
        }
      ],
      "source": [
        "torch.arange(1,10)"
      ]
    },
    {
      "cell_type": "code",
      "execution_count": 51,
      "metadata": {
        "colab": {
          "base_uri": "https://localhost:8080/"
        },
        "id": "rFAKJ8M5nJDl",
        "outputId": "8405c059-59d1-4ea1-d44e-ad2c29634c5e"
      },
      "outputs": [
        {
          "data": {
            "text/plain": [
              "tensor([ 1,  2,  3,  4,  5,  6,  7,  8,  9, 10])"
            ]
          },
          "execution_count": 51,
          "metadata": {},
          "output_type": "execute_result"
        }
      ],
      "source": [
        "one_to_ten = torch.arange(1,11)\n",
        "one_to_ten"
      ]
    },
    {
      "cell_type": "code",
      "execution_count": 52,
      "metadata": {
        "colab": {
          "base_uri": "https://localhost:8080/"
        },
        "id": "psZ3NqvxnNTd",
        "outputId": "5e5b73b6-618c-4e5a-ea56-f2b868aa838f"
      },
      "outputs": [
        {
          "data": {
            "text/plain": [
              "tensor([  0,  77, 154, 231, 308, 385, 462, 539, 616, 693, 770, 847, 924])"
            ]
          },
          "execution_count": 52,
          "metadata": {},
          "output_type": "execute_result"
        }
      ],
      "source": [
        "zero_to_thousand_step77 = torch.arange(start=0, end=1000, step=77)\n",
        "zero_to_thousand_step77"
      ]
    },
    {
      "cell_type": "code",
      "execution_count": 55,
      "metadata": {
        "colab": {
          "base_uri": "https://localhost:8080/"
        },
        "id": "VaiphBSxnctN",
        "outputId": "ff14ec64-5468-4e8b-f015-4f8d6ffb72db"
      },
      "outputs": [
        {
          "data": {
            "text/plain": [
              "tensor([0, 0, 0, 0, 0, 0, 0, 0, 0, 0])"
            ]
          },
          "execution_count": 55,
          "metadata": {},
          "output_type": "execute_result"
        }
      ],
      "source": [
        "# Creating tensors like\n",
        "ten_zeros = torch.zeros_like(one_to_ten)\n",
        "ten_zeros"
      ]
    },
    {
      "cell_type": "markdown",
      "metadata": {
        "id": "O8u8MmKdnint"
      },
      "source": [
        "### Tensor Datatypes\n",
        "\n",
        "**Note:** Tensor datatypes is one of the three big errors you'll run into with PyTorch and deep learning:\n",
        "1. Tensors not right datatype\n",
        "2. Tensors not right shape\n",
        "3. Tensors not on the right device"
      ]
    },
    {
      "cell_type": "code",
      "execution_count": 56,
      "metadata": {
        "colab": {
          "base_uri": "https://localhost:8080/"
        },
        "id": "J6-kzQ-joIju",
        "outputId": "2a0ba1cd-77b1-4b2b-8b09-05c3ca660185"
      },
      "outputs": [
        {
          "data": {
            "text/plain": [
              "tensor([3., 6., 9.])"
            ]
          },
          "execution_count": 56,
          "metadata": {},
          "output_type": "execute_result"
        }
      ],
      "source": [
        "# Float 32 tensor\n",
        "float_32_tensor = torch.tensor([3.0, 6.0, 9.0],\n",
        "                               dtype=None)\n",
        "float_32_tensor"
      ]
    },
    {
      "cell_type": "code",
      "execution_count": 57,
      "metadata": {
        "colab": {
          "base_uri": "https://localhost:8080/"
        },
        "id": "sl6Hllz0oRT7",
        "outputId": "e627663e-311c-492e-a634-1b506b1070da"
      },
      "outputs": [
        {
          "data": {
            "text/plain": [
              "torch.float32"
            ]
          },
          "execution_count": 57,
          "metadata": {},
          "output_type": "execute_result"
        }
      ],
      "source": [
        "float_32_tensor.dtype"
      ]
    },
    {
      "cell_type": "code",
      "execution_count": 58,
      "metadata": {
        "colab": {
          "base_uri": "https://localhost:8080/"
        },
        "id": "EuCdOhmZoTX8",
        "outputId": "e205204d-4924-430e-f0d9-50cc51ff11ac"
      },
      "outputs": [
        {
          "data": {
            "text/plain": [
              "tensor([1., 2., 3.], dtype=torch.float16)"
            ]
          },
          "execution_count": 58,
          "metadata": {},
          "output_type": "execute_result"
        }
      ],
      "source": [
        "# Float 16 tensor\n",
        "float_16_tensor = torch.tensor([1,2,3], dtype=torch.float16)\n",
        "float_16_tensor"
      ]
    },
    {
      "cell_type": "code",
      "execution_count": 60,
      "metadata": {
        "colab": {
          "base_uri": "https://localhost:8080/"
        },
        "id": "xPwo4XUtofus",
        "outputId": "b58cc920-3772-41e3-faea-7bffb1118358"
      },
      "outputs": [
        {
          "data": {
            "text/plain": [
              "tensor([1, 2, 3])"
            ]
          },
          "execution_count": 60,
          "metadata": {},
          "output_type": "execute_result"
        }
      ],
      "source": [
        "# Float 32 tensor\n",
        "float_32_tensor = torch.tensor([1,2,3],\n",
        "                               dtype=None,  # what data type is the tensor(e.g. float32 or float16)\n",
        "                               device=None, # Select device: cpu, cuda, what device is your tensor on\n",
        "                              requires_grad=False) # whether or not to track gradients with this tensors operations\n",
        "float_32_tensor"
      ]
    },
    {
      "cell_type": "code",
      "execution_count": 61,
      "metadata": {
        "colab": {
          "base_uri": "https://localhost:8080/"
        },
        "id": "zJiOcm-7qZDZ",
        "outputId": "4fad57ed-411e-4c24-8e59-0f519d184b74"
      },
      "outputs": [
        {
          "data": {
            "text/plain": [
              "torch.int64"
            ]
          },
          "execution_count": 61,
          "metadata": {},
          "output_type": "execute_result"
        }
      ],
      "source": [
        "float_32_tensor.dtype"
      ]
    },
    {
      "cell_type": "code",
      "execution_count": 63,
      "metadata": {
        "colab": {
          "base_uri": "https://localhost:8080/"
        },
        "id": "_9NYiDd3quOY",
        "outputId": "f8110583-862f-467a-91e3-a5839754ed44"
      },
      "outputs": [
        {
          "data": {
            "text/plain": [
              "tensor([1., 2., 3.], dtype=torch.float16)"
            ]
          },
          "execution_count": 63,
          "metadata": {},
          "output_type": "execute_result"
        }
      ],
      "source": [
        "float_16_tensor = float_32_tensor.type(torch.float16)\n",
        "float_16_tensor"
      ]
    },
    {
      "cell_type": "code",
      "execution_count": 65,
      "metadata": {
        "colab": {
          "base_uri": "https://localhost:8080/"
        },
        "id": "GyHiOGKnq2Of",
        "outputId": "e0f8bd21-de43-429d-999b-0d41da54da66"
      },
      "outputs": [
        {
          "data": {
            "text/plain": [
              "(tensor([1., 2., 3.]), torch.float32)"
            ]
          },
          "execution_count": 65,
          "metadata": {},
          "output_type": "execute_result"
        }
      ],
      "source": [
        "float_16_tensor = float_32_tensor.type(torch.float32)\n",
        "float_16_tensor, float_16_tensor.dtype"
      ]
    },
    {
      "cell_type": "code",
      "execution_count": 66,
      "metadata": {
        "colab": {
          "base_uri": "https://localhost:8080/"
        },
        "id": "dxpW8hLTq_Hg",
        "outputId": "9fbda794-fc6e-4201-800c-515957387567"
      },
      "outputs": [
        {
          "data": {
            "text/plain": [
              "tensor([1., 2., 3.], dtype=torch.float16)"
            ]
          },
          "execution_count": 66,
          "metadata": {},
          "output_type": "execute_result"
        }
      ],
      "source": [
        "float_16_tensor = torch.tensor([1,2,3], dtype=torch.float16)\n",
        "float_16_tensor"
      ]
    },
    {
      "cell_type": "code",
      "execution_count": 67,
      "metadata": {
        "colab": {
          "base_uri": "https://localhost:8080/"
        },
        "id": "hYQJt3Q-uY5C",
        "outputId": "6cd1054a-8faa-444d-f297-1fad83f81518"
      },
      "outputs": [
        {
          "data": {
            "text/plain": [
              "tensor([1., 4., 9.], dtype=torch.float16)"
            ]
          },
          "execution_count": 67,
          "metadata": {},
          "output_type": "execute_result"
        }
      ],
      "source": [
        "float_16_tensor*float_32_tensor"
      ]
    },
    {
      "cell_type": "code",
      "execution_count": 68,
      "metadata": {
        "colab": {
          "base_uri": "https://localhost:8080/"
        },
        "id": "xtt_iJwkub5x",
        "outputId": "5d0d863e-f99a-4844-e384-9fd4f06db5a8"
      },
      "outputs": [
        {
          "data": {
            "text/plain": [
              "tensor([1, 2, 3], dtype=torch.int32)"
            ]
          },
          "execution_count": 68,
          "metadata": {},
          "output_type": "execute_result"
        }
      ],
      "source": [
        "int_32_tensor = torch.tensor([1,2,3], dtype=torch.int32)\n",
        "int_32_tensor"
      ]
    },
    {
      "cell_type": "code",
      "execution_count": 69,
      "metadata": {
        "colab": {
          "base_uri": "https://localhost:8080/"
        },
        "id": "ooKIKI2suoEq",
        "outputId": "b56eec23-a79e-4195-ae41-a8664888db9a"
      },
      "outputs": [
        {
          "data": {
            "text/plain": [
              "tensor([1, 4, 9])"
            ]
          },
          "execution_count": 69,
          "metadata": {},
          "output_type": "execute_result"
        }
      ],
      "source": [
        "float_32_tensor * int_32_tensor"
      ]
    },
    {
      "cell_type": "code",
      "execution_count": 71,
      "metadata": {
        "colab": {
          "base_uri": "https://localhost:8080/"
        },
        "id": "L5C9JSWWuuZK",
        "outputId": "e0f54034-c117-45b7-bf46-55437351a716"
      },
      "outputs": [
        {
          "data": {
            "text/plain": [
              "(tensor([1, 2, 3]), torch.int64)"
            ]
          },
          "execution_count": 71,
          "metadata": {},
          "output_type": "execute_result"
        }
      ],
      "source": [
        "int_64_tensor = torch.tensor([1,2,3], dtype=torch.int64)\n",
        "int_64_tensor, int_64_tensor.dtype"
      ]
    },
    {
      "cell_type": "code",
      "execution_count": 73,
      "metadata": {
        "colab": {
          "base_uri": "https://localhost:8080/"
        },
        "id": "-9fYFxSTu2Xa",
        "outputId": "cc05504b-a84d-4421-deae-7a05375fb35b"
      },
      "outputs": [
        {
          "data": {
            "text/plain": [
              "torch.int64"
            ]
          },
          "execution_count": 73,
          "metadata": {},
          "output_type": "execute_result"
        }
      ],
      "source": [
        "long_int_64_tensor = torch.tensor([1,2,3], dtype=torch.long)\n",
        "long_int_64_tensor.dtype"
      ]
    },
    {
      "cell_type": "code",
      "execution_count": 75,
      "metadata": {
        "id": "g5YzHDzyvDSa"
      },
      "outputs": [],
      "source": [
        "dtype_mul=float_32_tensor * long_int_64_tensor"
      ]
    },
    {
      "cell_type": "code",
      "execution_count": 76,
      "metadata": {
        "colab": {
          "base_uri": "https://localhost:8080/"
        },
        "id": "YOnhx3ZRvQVx",
        "outputId": "8ec19070-012e-4403-9c16-3f9852c1319b"
      },
      "outputs": [
        {
          "data": {
            "text/plain": [
              "torch.int64"
            ]
          },
          "execution_count": 76,
          "metadata": {},
          "output_type": "execute_result"
        }
      ],
      "source": [
        "dtype_mul.dtype"
      ]
    },
    {
      "cell_type": "markdown",
      "metadata": {
        "id": "efAGi0UEvUsS"
      },
      "source": [
        "### Getting information from tensors:\n",
        "1. Tensors not right datatype - `tensor.dtype`\n",
        "2. Tensors not right shape - `tensor.shape`\n",
        "3. Tensors not on the right device - `tensor.device`"
      ]
    },
    {
      "cell_type": "code",
      "execution_count": 77,
      "metadata": {
        "id": "D1sarCNbvtpX"
      },
      "outputs": [],
      "source": [
        "# create a tensor:\n",
        "some_tensor = torch.rand(3,4)"
      ]
    },
    {
      "cell_type": "code",
      "execution_count": 78,
      "metadata": {
        "colab": {
          "base_uri": "https://localhost:8080/"
        },
        "id": "dxFVUYVFv0Y4",
        "outputId": "2711e4e9-631f-4875-d49b-97f7d375a3a8"
      },
      "outputs": [
        {
          "data": {
            "text/plain": [
              "tensor([[0.3498, 0.5594, 0.4349, 0.5089],\n",
              "        [0.9912, 0.3067, 0.5202, 0.0731],\n",
              "        [0.3608, 0.6230, 0.9121, 0.8919]])"
            ]
          },
          "execution_count": 78,
          "metadata": {},
          "output_type": "execute_result"
        }
      ],
      "source": [
        "some_tensor"
      ]
    },
    {
      "cell_type": "code",
      "execution_count": 85,
      "metadata": {
        "colab": {
          "base_uri": "https://localhost:8080/"
        },
        "id": "cdfBU8hUv1L4",
        "outputId": "f7229bf0-851a-4a02-e102-c69d4cae564d"
      },
      "outputs": [
        {
          "name": "stdout",
          "output_type": "stream",
          "text": [
            "tensor([[0.3498, 0.5594, 0.4349, 0.5089],\n",
            "        [0.9912, 0.3067, 0.5202, 0.0731],\n",
            "        [0.3608, 0.6230, 0.9121, 0.8919]])\n",
            "data type of tensor: torch.float32\n",
            "shape of tensor: torch.Size([3, 4])\n",
            "<built-in method size of Tensor object at 0x7a73d9aa1df0>\n",
            "device tensor is on: cpu\n"
          ]
        }
      ],
      "source": [
        "# find out details about some tensor:\n",
        "print(some_tensor)\n",
        "print(f'data type of tensor: {some_tensor.dtype}')\n",
        "print(f'shape of tensor: {some_tensor.shape}')\n",
        "print(some_tensor.size)\n",
        "print(f'device tensor is on: {some_tensor.device}')\n"
      ]
    },
    {
      "cell_type": "code",
      "execution_count": 84,
      "metadata": {
        "colab": {
          "base_uri": "https://localhost:8080/"
        },
        "id": "bBfIx85iwYH3",
        "outputId": "cb643e16-5185-4231-98f1-4e8c5b92ad63"
      },
      "outputs": [
        {
          "data": {
            "text/plain": [
              "<function Tensor.size>"
            ]
          },
          "execution_count": 84,
          "metadata": {},
          "output_type": "execute_result"
        }
      ],
      "source": [
        "some_tensor.size"
      ]
    },
    {
      "cell_type": "markdown",
      "metadata": {
        "id": "1zIes8hdwxYX"
      },
      "source": [
        "### Manipulating tensors (tensor operations)\n",
        "\n",
        "Tensor operations include:\n",
        "* Addition\n",
        "* Subtraction\n",
        "* Multiplication (element-wise)\n",
        "* Division\n",
        "* Matrix Multiplication"
      ]
    },
    {
      "cell_type": "code",
      "execution_count": 106,
      "metadata": {
        "colab": {
          "base_uri": "https://localhost:8080/"
        },
        "id": "GEPD_VDTxjwn",
        "outputId": "191de2e8-10e8-4850-e023-247799e21f42"
      },
      "outputs": [
        {
          "data": {
            "text/plain": [
              "tensor([11, 12, 13])"
            ]
          },
          "execution_count": 106,
          "metadata": {},
          "output_type": "execute_result"
        }
      ],
      "source": [
        "# Create a tensor\n",
        "tensor = torch.tensor([1,2,3])\n",
        "# Add 10 to it:\n",
        "tensor + 10"
      ]
    },
    {
      "cell_type": "code",
      "execution_count": 87,
      "metadata": {
        "colab": {
          "base_uri": "https://localhost:8080/"
        },
        "id": "ci5u84vpxsSV",
        "outputId": "2d029f51-651f-454f-a55a-d739199cc76a"
      },
      "outputs": [
        {
          "data": {
            "text/plain": [
              "tensor([10, 20, 30])"
            ]
          },
          "execution_count": 87,
          "metadata": {},
          "output_type": "execute_result"
        }
      ],
      "source": [
        "# Multiply tensor by 10:\n",
        "tensor * 10"
      ]
    },
    {
      "cell_type": "code",
      "execution_count": 88,
      "metadata": {
        "colab": {
          "base_uri": "https://localhost:8080/"
        },
        "id": "AoSysXmUxz-m",
        "outputId": "7932d107-08e5-4987-e3dc-828e1ffd0619"
      },
      "outputs": [
        {
          "data": {
            "text/plain": [
              "tensor([-9, -8, -7])"
            ]
          },
          "execution_count": 88,
          "metadata": {},
          "output_type": "execute_result"
        }
      ],
      "source": [
        "# Subtract tensor by 10:\n",
        "tensor - 10"
      ]
    },
    {
      "cell_type": "code",
      "execution_count": 89,
      "metadata": {
        "colab": {
          "base_uri": "https://localhost:8080/"
        },
        "id": "4EwrbVIXyB3n",
        "outputId": "18d7c863-24a8-4b18-87f5-ef0b85bc9be6"
      },
      "outputs": [
        {
          "data": {
            "text/plain": [
              "tensor([10, 20, 30])"
            ]
          },
          "execution_count": 89,
          "metadata": {},
          "output_type": "execute_result"
        }
      ],
      "source": [
        "# Try out PyTorch in-built functions\n",
        "torch.mul(tensor, 10)"
      ]
    },
    {
      "cell_type": "code",
      "execution_count": 90,
      "metadata": {
        "colab": {
          "base_uri": "https://localhost:8080/"
        },
        "id": "bstyJiOWyHxN",
        "outputId": "2e5d609f-0151-4cfa-ad8b-43f095dbab91"
      },
      "outputs": [
        {
          "data": {
            "text/plain": [
              "tensor([11, 12, 13])"
            ]
          },
          "execution_count": 90,
          "metadata": {},
          "output_type": "execute_result"
        }
      ],
      "source": [
        "torch.add(tensor, 10)"
      ]
    },
    {
      "cell_type": "code",
      "execution_count": 91,
      "metadata": {
        "colab": {
          "base_uri": "https://localhost:8080/"
        },
        "id": "uQ-g5cU3yQnN",
        "outputId": "dfc02538-3650-4b8d-8c0b-f04718f478d8"
      },
      "outputs": [
        {
          "data": {
            "text/plain": [
              "tensor([-9, -8, -7])"
            ]
          },
          "execution_count": 91,
          "metadata": {},
          "output_type": "execute_result"
        }
      ],
      "source": [
        "torch.sub(tensor, 10)"
      ]
    },
    {
      "cell_type": "code",
      "execution_count": 92,
      "metadata": {
        "colab": {
          "base_uri": "https://localhost:8080/"
        },
        "id": "hcIULA4sySgd",
        "outputId": "6dc36d2c-598a-4456-e005-40c07c7f670c"
      },
      "outputs": [
        {
          "data": {
            "text/plain": [
              "tensor([0.1000, 0.2000, 0.3000])"
            ]
          },
          "execution_count": 92,
          "metadata": {},
          "output_type": "execute_result"
        }
      ],
      "source": [
        "torch.div(tensor, 10)"
      ]
    },
    {
      "cell_type": "code",
      "execution_count": 93,
      "metadata": {
        "colab": {
          "base_uri": "https://localhost:8080/"
        },
        "id": "ChTnWIMGyiXV",
        "outputId": "e1fa2589-be07-4737-895e-e856bbf2a222"
      },
      "outputs": [
        {
          "data": {
            "text/plain": [
              "tensor([0.1000, 0.2000, 0.3000])"
            ]
          },
          "execution_count": 93,
          "metadata": {},
          "output_type": "execute_result"
        }
      ],
      "source": [
        "# Divide tensor by 10:\n",
        "\n",
        "tensor / 10"
      ]
    },
    {
      "cell_type": "markdown",
      "metadata": {
        "id": "N-PE8v8FylXt"
      },
      "source": [
        "### Matrix Multiplication\n",
        "\n",
        "Two main ways of performing multiplication in neural networks and deep learning:\n",
        "\n",
        "1. Element-wise multiplication\n",
        "2. Matrix multiplication (dot product)\n",
        "\n",
        "Two main rules that performing matrix multiplication needs to satisfy:\n",
        "1. The **inner dimenstions** must match:\n",
        "* `(3,2) @ (3,2)` won't work\n",
        "* `(2,3) @ (2,3)` will work\n",
        "* `(3,2) @ (2,3)` will work\n",
        "i.e; number of cols of matrix 1 must match the number of rows of matrix 2\n",
        "\n",
        "2. The resulting Matrix has the shape of the **outer dimensions**:\n",
        "* `(2,3) @ (3,2)` -> `(2,2)`\n",
        "* `(3,2) @ (2,3)` -> `(3,3)`"
      ]
    },
    {
      "cell_type": "code",
      "execution_count": 104,
      "metadata": {
        "colab": {
          "base_uri": "https://localhost:8080/"
        },
        "id": "xeESvQr_3Bw-",
        "outputId": "4fa56d4d-2af2-4721-f30a-40e8f81a28bb"
      },
      "outputs": [
        {
          "data": {
            "text/plain": [
              "(tensor([[0.2222, 0.4331],\n",
              "         [0.2469, 1.0054],\n",
              "         [0.2557, 0.6948]]),\n",
              " torch.Size([3, 2]))"
            ]
          },
          "execution_count": 104,
          "metadata": {},
          "output_type": "execute_result"
        }
      ],
      "source": [
        "mat_mul = torch.rand(3,2) @ torch.rand(2,2)\n",
        "mat_mul, mat_mul.shape"
      ]
    },
    {
      "cell_type": "code",
      "execution_count": 94,
      "metadata": {
        "colab": {
          "base_uri": "https://localhost:8080/"
        },
        "id": "8DfMWM29y8aE",
        "outputId": "812a7585-5789-49c8-d51d-d9d0b90c951d"
      },
      "outputs": [
        {
          "data": {
            "text/plain": [
              "tensor([1, 4, 9])"
            ]
          },
          "execution_count": 94,
          "metadata": {},
          "output_type": "execute_result"
        }
      ],
      "source": [
        "# Element wise multiplication:\n",
        "tensor * tensor"
      ]
    },
    {
      "cell_type": "code",
      "execution_count": 96,
      "metadata": {
        "colab": {
          "base_uri": "https://localhost:8080/"
        },
        "id": "gQH9VO49zknN",
        "outputId": "9297ad46-f661-4130-f55c-27ee8541041e"
      },
      "outputs": [
        {
          "name": "stdout",
          "output_type": "stream",
          "text": [
            "tensor([1, 2, 3]) * tensor([1, 2, 3])\n",
            "Equals: tensor([1, 4, 9])\n"
          ]
        }
      ],
      "source": [
        "print(tensor, '*', tensor)\n",
        "print(f'Equals: {tensor * tensor}')"
      ]
    },
    {
      "cell_type": "code",
      "execution_count": 97,
      "metadata": {
        "colab": {
          "base_uri": "https://localhost:8080/"
        },
        "id": "nyQiDk61zt6z",
        "outputId": "00a7229d-0385-4220-ec0a-99248767bdf0"
      },
      "outputs": [
        {
          "data": {
            "text/plain": [
              "tensor(14)"
            ]
          },
          "execution_count": 97,
          "metadata": {},
          "output_type": "execute_result"
        }
      ],
      "source": [
        "# Matrix multiplication:\n",
        "torch.matmul(tensor, tensor)"
      ]
    },
    {
      "cell_type": "code",
      "execution_count": 98,
      "metadata": {
        "colab": {
          "base_uri": "https://localhost:8080/"
        },
        "id": "JB-0CYrez27s",
        "outputId": "750b8dda-21a4-4f88-daeb-d3310c99a130"
      },
      "outputs": [
        {
          "name": "stdout",
          "output_type": "stream",
          "text": [
            "CPU times: user 1.8 ms, sys: 24 µs, total: 1.83 ms\n",
            "Wall time: 3.84 ms\n"
          ]
        }
      ],
      "source": [
        "%%time\n",
        "value = 0\n",
        "for i in range(len(tensor)):\n",
        "  value += tensor[i] * tensor[i]\n"
      ]
    },
    {
      "cell_type": "code",
      "execution_count": 99,
      "metadata": {
        "colab": {
          "base_uri": "https://localhost:8080/"
        },
        "id": "PTu900QI02Vq",
        "outputId": "a6c39614-ac0d-4451-dfdd-49d057eaf237"
      },
      "outputs": [
        {
          "name": "stdout",
          "output_type": "stream",
          "text": [
            "CPU times: user 507 µs, sys: 0 ns, total: 507 µs\n",
            "Wall time: 385 µs\n"
          ]
        },
        {
          "data": {
            "text/plain": [
              "tensor(14)"
            ]
          },
          "execution_count": 99,
          "metadata": {},
          "output_type": "execute_result"
        }
      ],
      "source": [
        "%%time\n",
        "torch.matmul(tensor, tensor)"
      ]
    },
    {
      "cell_type": "code",
      "execution_count": 101,
      "metadata": {
        "colab": {
          "base_uri": "https://localhost:8080/"
        },
        "id": "FI24DS6M2RWj",
        "outputId": "fc10f8de-3c43-46bc-c9c8-6ba2f7232ba3"
      },
      "outputs": [
        {
          "name": "stdout",
          "output_type": "stream",
          "text": [
            "CPU times: user 677 µs, sys: 0 ns, total: 677 µs\n",
            "Wall time: 531 µs\n"
          ]
        },
        {
          "data": {
            "text/plain": [
              "tensor(14)"
            ]
          },
          "execution_count": 101,
          "metadata": {},
          "output_type": "execute_result"
        }
      ],
      "source": [
        "%%time\n",
        "# Also performs matrix multiplication:\n",
        "tensor @ tensor"
      ]
    },
    {
      "cell_type": "code",
      "execution_count": 107,
      "metadata": {
        "colab": {
          "base_uri": "https://localhost:8080/",
          "height": 158
        },
        "id": "cFsQRc-w4A_K",
        "outputId": "909587ef-4666-445b-edc3-17b090d7f1fa"
      },
      "outputs": [
        {
          "ename": "RuntimeError",
          "evalue": "ignored",
          "output_type": "error",
          "traceback": [
            "\u001b[0;31m---------------------------------------------------------------------------\u001b[0m",
            "\u001b[0;31mRuntimeError\u001b[0m                              Traceback (most recent call last)",
            "\u001b[0;32m<timed eval>\u001b[0m in \u001b[0;36m<module>\u001b[0;34m\u001b[0m\n",
            "\u001b[0;31mRuntimeError\u001b[0m: self must be a matrix"
          ]
        }
      ],
      "source": [
        "%%time\n",
        "# Also performs matrix multiplication but only if the tensor is a matrix~:\n",
        "torch.mm(tensor, tensor)"
      ]
    },
    {
      "cell_type": "code",
      "execution_count": 100,
      "metadata": {
        "id": "qH6GnkWM07TD"
      },
      "outputs": [],
      "source": [
        "# in matrix multiplication the number of rows must be equal to the number of columns:\n"
      ]
    },
    {
      "cell_type": "markdown",
      "metadata": {
        "id": "z0tITtbX1iFK"
      },
      "source": [
        "### One of the most common errors in deep learning: shape errors"
      ]
    },
    {
      "cell_type": "code",
      "execution_count": 108,
      "metadata": {
        "colab": {
          "base_uri": "https://localhost:8080/"
        },
        "id": "CDNkE6mj3U0t",
        "outputId": "c76f3098-2fd3-4431-9340-0a5f570fc469"
      },
      "outputs": [
        {
          "data": {
            "text/plain": [
              "tensor([[ 6, 12, 18],\n",
              "        [ 6, 12, 18],\n",
              "        [ 6, 12, 18]])"
            ]
          },
          "execution_count": 108,
          "metadata": {},
          "output_type": "execute_result"
        }
      ],
      "source": [
        "# Shapes for matrix multiplication:\n",
        "tensor_A = torch.tensor([[1,2,3],[1,2,3],[1,2,3]])\n",
        "tensor_B = torch.tensor([[1,2,3],[1,2,3],[1,2,3]])\n",
        "\n",
        "torch.mm(tensor_A, tensor_B) # Could also use torch.matmul or @"
      ]
    },
    {
      "cell_type": "code",
      "execution_count": 109,
      "metadata": {
        "colab": {
          "base_uri": "https://localhost:8080/",
          "height": 210
        },
        "id": "C9O3YXwp4ZiP",
        "outputId": "8dd82347-2435-48f6-ef9b-7f1c3765ad83"
      },
      "outputs": [
        {
          "ename": "RuntimeError",
          "evalue": "ignored",
          "output_type": "error",
          "traceback": [
            "\u001b[0;31m---------------------------------------------------------------------------\u001b[0m",
            "\u001b[0;31mRuntimeError\u001b[0m                              Traceback (most recent call last)",
            "\u001b[0;32m<ipython-input-109-a4d932987b22>\u001b[0m in \u001b[0;36m<cell line: 4>\u001b[0;34m()\u001b[0m\n\u001b[1;32m      2\u001b[0m \u001b[0mtensor_B\u001b[0m \u001b[0;34m=\u001b[0m \u001b[0mtorch\u001b[0m\u001b[0;34m.\u001b[0m\u001b[0mtensor\u001b[0m\u001b[0;34m(\u001b[0m\u001b[0;34m[\u001b[0m\u001b[0;34m[\u001b[0m\u001b[0;36m1\u001b[0m\u001b[0;34m,\u001b[0m\u001b[0;36m2\u001b[0m\u001b[0;34m]\u001b[0m\u001b[0;34m,\u001b[0m\u001b[0;34m[\u001b[0m\u001b[0;36m3\u001b[0m\u001b[0;34m,\u001b[0m\u001b[0;36m4\u001b[0m\u001b[0;34m]\u001b[0m\u001b[0;34m,\u001b[0m\u001b[0;34m[\u001b[0m\u001b[0;36m5\u001b[0m\u001b[0;34m,\u001b[0m\u001b[0;36m6\u001b[0m\u001b[0;34m]\u001b[0m\u001b[0;34m]\u001b[0m\u001b[0;34m)\u001b[0m\u001b[0;34m\u001b[0m\u001b[0;34m\u001b[0m\u001b[0m\n\u001b[1;32m      3\u001b[0m \u001b[0;34m\u001b[0m\u001b[0m\n\u001b[0;32m----> 4\u001b[0;31m \u001b[0mtorch\u001b[0m\u001b[0;34m.\u001b[0m\u001b[0mmm\u001b[0m\u001b[0;34m(\u001b[0m\u001b[0mtensor_A\u001b[0m\u001b[0;34m,\u001b[0m \u001b[0mtensor_B\u001b[0m\u001b[0;34m)\u001b[0m\u001b[0;34m\u001b[0m\u001b[0;34m\u001b[0m\u001b[0m\n\u001b[0m",
            "\u001b[0;31mRuntimeError\u001b[0m: mat1 and mat2 shapes cannot be multiplied (3x2 and 3x2)"
          ]
        }
      ],
      "source": [
        "tensor_A = torch.tensor([[1,2],[3,4],[5,6]])\n",
        "tensor_B = torch.tensor([[1,2],[3,4],[5,6]])\n",
        "\n",
        "torch.mm(tensor_A, tensor_B)"
      ]
    },
    {
      "cell_type": "markdown",
      "metadata": {
        "id": "DBf0_iwY495v"
      },
      "source": [
        "To fix our tensor shape isses, we can maniupulate the shape of one of our tensors using a transpose.\n",
        "A transpose switches the axes or dimensions of a given tensor."
      ]
    },
    {
      "cell_type": "code",
      "execution_count": 112,
      "metadata": {
        "colab": {
          "base_uri": "https://localhost:8080/"
        },
        "id": "FWw6MWJX5HBX",
        "outputId": "7871883b-b9de-4ec0-f891-ac6e505f593b"
      },
      "outputs": [
        {
          "data": {
            "text/plain": [
              "tensor([[1, 2],\n",
              "        [3, 4],\n",
              "        [5, 6]])"
            ]
          },
          "execution_count": 112,
          "metadata": {},
          "output_type": "execute_result"
        }
      ],
      "source": [
        "tensor_B"
      ]
    },
    {
      "cell_type": "code",
      "execution_count": 113,
      "metadata": {
        "colab": {
          "base_uri": "https://localhost:8080/"
        },
        "id": "hR9Oggxs5LT2",
        "outputId": "ef445b03-0d34-4cb4-a528-bb64f0fd7396"
      },
      "outputs": [
        {
          "data": {
            "text/plain": [
              "tensor([[1, 3, 5],\n",
              "        [2, 4, 6]])"
            ]
          },
          "execution_count": 113,
          "metadata": {},
          "output_type": "execute_result"
        }
      ],
      "source": [
        "tensor_B.T"
      ]
    },
    {
      "cell_type": "code",
      "execution_count": 114,
      "metadata": {
        "colab": {
          "base_uri": "https://localhost:8080/"
        },
        "id": "Pyg3n__Z5Sjn",
        "outputId": "7199c502-1a9d-42a2-d237-5c0550ee55f4"
      },
      "outputs": [
        {
          "data": {
            "text/plain": [
              "torch.Size([2, 3])"
            ]
          },
          "execution_count": 114,
          "metadata": {},
          "output_type": "execute_result"
        }
      ],
      "source": [
        "tensor_B.T.shape"
      ]
    },
    {
      "cell_type": "code",
      "execution_count": 116,
      "metadata": {
        "colab": {
          "base_uri": "https://localhost:8080/"
        },
        "id": "dQeKrPoK5WZ4",
        "outputId": "c0c3132e-0b25-4728-aa15-b1e5ca6c7828"
      },
      "outputs": [
        {
          "name": "stdout",
          "output_type": "stream",
          "text": [
            "Original shapes: tensor_A = torch.Size([3, 2]), tensor_B = torch.Size([3, 2])\n",
            "New shapes: tensor_A = torch.Size([3, 2]), tensor_B.T = torch.Size([2, 3])\n",
            "Multiplying: torch.Size([3, 2]) @ torch.Size([2, 3])\n",
            "Output:\n",
            "\n",
            "tensor([[ 5, 11, 17],\n",
            "        [11, 25, 39],\n",
            "        [17, 39, 61]])\n",
            "\n",
            "Output shape: torch.Size([3, 3])\n"
          ]
        }
      ],
      "source": [
        "print(f'Original shapes: tensor_A = {tensor_A.shape}, tensor_B = {tensor_B.shape}')\n",
        "print(f'New shapes: tensor_A = {tensor_A.shape}, tensor_B.T = {tensor_B.T.shape}')\n",
        "print(f'Multiplying: {tensor_A.shape} @ {tensor_B.T.shape}')\n",
        "print('Output:\\n')\n",
        "output = torch.mm(tensor_A, tensor_B.T)\n",
        "print(output)\n",
        "print(f'\\nOutput shape: {output.shape}')"
      ]
    },
    {
      "cell_type": "code",
      "execution_count": null,
      "metadata": {
        "id": "UCvYhENQ5jDu"
      },
      "outputs": [],
      "source": []
    }
  ],
  "metadata": {
    "colab": {
      "provenance": []
    },
    "kernelspec": {
      "display_name": "Python 3",
      "name": "python3"
    },
    "language_info": {
      "name": "python"
    }
  },
  "nbformat": 4,
  "nbformat_minor": 0
}
